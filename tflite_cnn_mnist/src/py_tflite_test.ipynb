{
 "cells": [
  {
   "cell_type": "code",
   "execution_count": 2,
   "metadata": {},
   "outputs": [],
   "source": [
    "import tensorflow as tf\n",
    "import numpy as np"
   ]
  },
  {
   "cell_type": "code",
   "execution_count": 3,
   "metadata": {},
   "outputs": [],
   "source": [
    "X_test = np.load(\"/Users/sanda/Documents/esp_dev_files/tensor_test_3_cnn/src/MNIST_data/MNIST_X_test.npy\")\n",
    "y_test = np.load(\"/Users/sanda/Documents/esp_dev_files/tensor_test_3_cnn/src/MNIST_data/MNIST_y_test.npy\")"
   ]
  },
  {
   "cell_type": "code",
   "execution_count": null,
   "metadata": {},
   "outputs": [],
   "source": [
    "print(X_test[1].astype(np.float32))"
   ]
  },
  {
   "cell_type": "code",
   "execution_count": 20,
   "metadata": {},
   "outputs": [
    {
     "name": "stdout",
     "output_type": "stream",
     "text": [
      "input_details:  [{'name': 'serving_default_conv2d_input:0', 'index': 0, 'shape': array([ 1, 28, 28,  1]), 'shape_signature': array([-1, 28, 28,  1]), 'dtype': <class 'numpy.float32'>, 'quantization': (0.0, 0), 'quantization_parameters': {'scales': array([], dtype=float32), 'zero_points': array([], dtype=int32), 'quantized_dimension': 0}, 'sparsity_parameters': {}}]\n",
      "output_details:  [{'name': 'StatefulPartitionedCall:0', 'index': 20, 'shape': array([ 1, 10]), 'shape_signature': array([-1, 10]), 'dtype': <class 'numpy.float32'>, 'quantization': (0.0, 0), 'quantization_parameters': {'scales': array([], dtype=float32), 'zero_points': array([], dtype=int32), 'quantized_dimension': 0}, 'sparsity_parameters': {}}]\n",
      "input_shape:  [ 1 28 28  1]\n",
      "Expected:  9\n",
      "Actual:    9\n",
      "----------------------------\n",
      "Expected:  6\n",
      "Actual:    6\n",
      "----------------------------\n",
      "Expected:  6\n",
      "Actual:    6\n",
      "----------------------------\n",
      "Expected:  5\n",
      "Actual:    5\n",
      "----------------------------\n",
      "Expected:  4\n",
      "Actual:    4\n",
      "----------------------------\n",
      "Expected:  0\n",
      "Actual:    0\n",
      "----------------------------\n",
      "Expected:  7\n",
      "Actual:    7\n",
      "----------------------------\n",
      "Expected:  4\n",
      "Actual:    4\n",
      "----------------------------\n",
      "Expected:  0\n",
      "Actual:    0\n",
      "----------------------------\n",
      "Expected:  1\n",
      "Actual:    1\n",
      "----------------------------\n",
      "Expected:  3\n",
      "Actual:    3\n",
      "----------------------------\n",
      "Expected:  1\n",
      "Actual:    1\n",
      "----------------------------\n",
      "Expected:  3\n",
      "Actual:    3\n",
      "----------------------------\n",
      "Expected:  4\n",
      "Actual:    4\n",
      "----------------------------\n",
      "Expected:  7\n",
      "Actual:    7\n",
      "----------------------------\n",
      "Expected:  2\n",
      "Actual:    2\n",
      "----------------------------\n",
      "Expected:  7\n",
      "Actual:    7\n",
      "----------------------------\n",
      "Expected:  1\n",
      "Actual:    1\n",
      "----------------------------\n",
      "Expected:  2\n",
      "Actual:    2\n",
      "----------------------------\n",
      "Expected:  1\n",
      "Actual:    1\n",
      "----------------------------\n"
     ]
    }
   ],
   "source": [
    "# Load the TFLite model and allocate tensors.\n",
    "interpreter = tf.lite.Interpreter(model_path=\"/Users/sanda/Documents/esp_dev_files/tensor_test_3_cnn/src/cnn_mnist_model.tflite\")\n",
    "interpreter.allocate_tensors()\n",
    "\n",
    "# Get input and output tensors.\n",
    "input_details = interpreter.get_input_details()\n",
    "output_details = interpreter.get_output_details()\n",
    "\n",
    "print(\"input_details: \", input_details)\n",
    "print(\"output_details: \", output_details)\n",
    "# Test the model on test data.\n",
    "input_shape = input_details[0]['shape']\n",
    "print(\"input_shape: \", input_shape)\n",
    "start = 20\n",
    "end = 40\n",
    "count = start\n",
    "for i in X_test[start:end]:\n",
    "    input_data = i.astype(np.float32).reshape(1,28,28,1)\n",
    "    interpreter.set_tensor(input_details[0]['index'], input_data)\n",
    "\n",
    "    interpreter.invoke()\n",
    "\n",
    "    # The function `get_tensor()` returns a copy of the tensor data.\n",
    "    # Use `tensor()` in order to get a pointer to the tensor.\n",
    "    output_data = interpreter.get_tensor(output_details[0]['index'])\n",
    "    # print(output_data)\n",
    "    print(\"Expected: \",y_test[count])\n",
    "    print(\"Actual:   \",output_data.argmax())\n",
    "    print(\"----------------------------\")\n",
    "    count += 1"
   ]
  }
 ],
 "metadata": {
  "kernelspec": {
   "display_name": "Python 3.9.4 ('win_env')",
   "language": "python",
   "name": "python3"
  },
  "language_info": {
   "codemirror_mode": {
    "name": "ipython",
    "version": 3
   },
   "file_extension": ".py",
   "mimetype": "text/x-python",
   "name": "python",
   "nbconvert_exporter": "python",
   "pygments_lexer": "ipython3",
   "version": "3.9.4"
  },
  "orig_nbformat": 4,
  "vscode": {
   "interpreter": {
    "hash": "1629040aa20769eae1814e4326c7e3178b345257bc8513796a3572c099e917f2"
   }
  }
 },
 "nbformat": 4,
 "nbformat_minor": 2
}
