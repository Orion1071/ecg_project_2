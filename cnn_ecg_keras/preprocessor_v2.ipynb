{
 "cells": [
  {
   "cell_type": "code",
   "execution_count": 36,
   "metadata": {},
   "outputs": [],
   "source": [
    "import h5py\n",
    "import numpy as np\n",
    "import pandas as pd\n",
    "\n",
    "from sklearn.model_selection import train_test_split\n",
    "from sklearn.preprocessing import LabelEncoder\n",
    "from tensorflow import keras\n",
    "\n",
    "\n",
    "from physionet_processing import (fetch_h5data, spectrogram, \n",
    "                                  special_parameters, transformed_stats)\n",
    "\n",
    "from physionet_processing import (zero_filter, extend_ts, \n",
    "                                  random_resample, spectrogram, norm_float)\n"
   ]
  },
  {
   "cell_type": "code",
   "execution_count": 24,
   "metadata": {},
   "outputs": [],
   "source": [
    "# mac \n",
    "hd_file = \"/Users/macbookpro/Documents/physio.h5\"\n",
    "label_file = \"/Users/macbookpro/Documents/ecg_project_2/cnn_ecg_keras/REFERENCE-v3.csv\"\n"
   ]
  },
  {
   "cell_type": "code",
   "execution_count": 25,
   "metadata": {},
   "outputs": [],
   "source": [
    "# Open hdf5 file\n",
    "h5file =  h5py.File(hd_file, 'r')\n",
    "\n",
    "# Get a list of dataset names \n",
    "dataset_list = list(h5file.keys())\n",
    "\n",
    "# Load the labels\n",
    "label_df = pd.read_csv(label_file, header = None, names = ['name', 'label'])\n",
    "# Filter the labels that are in the small demo set\n",
    "label_df = label_df[label_df['name'].isin(dataset_list)]\n",
    "\n",
    "# Encode labels to integer numbers\n",
    "label_set = list(sorted(label_df.label.unique()))\n",
    "encoder = LabelEncoder().fit(label_set)\n",
    "label_set_codings = encoder.transform(label_set)\n",
    "label_df = label_df.assign(encoded = encoder.transform(label_df.label))\n",
    "\n",
    "\n",
    "# Split the IDs in training and validation set\n",
    "test_split = 0.44\n",
    "idx = np.arange(label_df.shape[0])\n",
    "id_train, id_val, _, _ = train_test_split(idx, idx, \n",
    "                                        test_size = test_split,\n",
    "                                        shuffle = True,\n",
    "                                        random_state = 123)\n",
    "val_split = 0.3\n",
    "id_val, id_test, _ , _ = train_test_split(id_val, id_val, \n",
    "                                        test_size = val_split,\n",
    "                                        shuffle = True,\n",
    "                                        random_state = 123)\n",
    "# Store the ids and labels in dictionaries\n",
    "partition = {'train': list(label_df.iloc[id_train,].name), \n",
    "            'validation': list(label_df.iloc[id_val,].name), \n",
    "            'test': list(label_df.iloc[id_test,].name)}\n",
    "\n",
    "labels = dict(zip(label_df.name, label_df.encoded))"
   ]
  },
  {
   "cell_type": "code",
   "execution_count": 16,
   "metadata": {},
   "outputs": [
    {
     "name": "stdout",
     "output_type": "stream",
     "text": [
      "4775\n",
      "2627\n",
      "1126\n"
     ]
    }
   ],
   "source": [
    "print(len(partition['train']))\n",
    "print(len(partition['validation']))\n",
    "print(len(partition['test']))"
   ]
  },
  {
   "cell_type": "code",
   "execution_count": 31,
   "metadata": {},
   "outputs": [],
   "source": [
    "max_length = 18286\n",
    "\n",
    "# Output dimensions\n",
    "sequence_length = max_length\n",
    "spectrogram_nperseg = 64 # Spectrogram window\n",
    "spectrogram_noverlap = 32 # Spectrogram overlap\n",
    "n_classes = len(label_df.label.unique())\n",
    "batch_size = 32\n",
    "\n",
    "# calculate image dimensions\n",
    "data = fetch_h5data(h5file, [0], sequence_length)\n",
    "_, _, Sxx = spectrogram(data, nperseg = spectrogram_nperseg, noverlap = spectrogram_noverlap)\n",
    "dim = Sxx[0].shape\n",
    "\n",
    "\n",
    "\n",
    "\n",
    "batch_size= batch_size\n",
    "dim= dim\n",
    "nperseg= spectrogram_nperseg\n",
    "noverlap= spectrogram_noverlap\n",
    "n_channels= 1\n",
    "sequence_length= sequence_length\n",
    "n_classes=n_classes\n",
    "shuffle= True\n",
    "data_mean = -9.01\n",
    "data_std = 9.00"
   ]
  },
  {
   "cell_type": "code",
   "execution_count": 59,
   "metadata": {},
   "outputs": [],
   "source": [
    "# Initialization\n",
    "augment = False\n",
    "batch_size = len(partition['test'])\n",
    "X = np.empty((batch_size, *dim, n_channels), dtype = float)\n",
    "y = np.empty((batch_size), dtype = int)\n",
    "for i, ID in enumerate(partition['test']):\n",
    "    # if i == 10:\n",
    "    #     break\n",
    "    data = extend_ts(h5file[ID]['ecgdata'][:, 0], sequence_length)\n",
    "    data = np.reshape(data, (1, len(data)))\n",
    "\n",
    "    if augment:\n",
    "    \n",
    "        # dropout bursts\n",
    "        data = zero_filter(data, threshold = 2, depth = 10)\n",
    "    \n",
    "        # random resampling\n",
    "        data = random_resample(data)\n",
    "    \n",
    "    # Generate spectrogram\n",
    "    data_spectrogram = spectrogram(data, nperseg = nperseg, noverlap = noverlap)[2]\n",
    "    \n",
    "    # Normalize\n",
    "    data_transformed = norm_float(data_spectrogram, data_mean, data_std)\n",
    "\n",
    "    X[i,] = np.expand_dims(data_transformed, axis = 3)\n",
    "\n",
    "    # Assuming that the dataset names are unique (only 1 per label)\n",
    "    y[i] = labels[ID]\n",
    "\n",
    "X = X.reshape(batch_size,570,-1)\n",
    "# y = keras.utils.to_categorical(y, num_classes=n_classes)"
   ]
  },
  {
   "cell_type": "code",
   "execution_count": 62,
   "metadata": {},
   "outputs": [
    {
     "ename": "IndexError",
     "evalue": "index 1130 is out of bounds for axis 0 with size 1126",
     "output_type": "error",
     "traceback": [
      "\u001b[0;31m---------------------------------------------------------------------------\u001b[0m",
      "\u001b[0;31mIndexError\u001b[0m                                Traceback (most recent call last)",
      "Cell \u001b[0;32mIn[62], line 3\u001b[0m\n\u001b[1;32m      1\u001b[0m \u001b[39mimport\u001b[39;00m \u001b[39mmatplotlib\u001b[39;00m\u001b[39m.\u001b[39;00m\u001b[39mpyplot\u001b[39;00m \u001b[39mas\u001b[39;00m \u001b[39mplt\u001b[39;00m\n\u001b[1;32m      2\u001b[0m plt\u001b[39m.\u001b[39mfigure(figsize\u001b[39m=\u001b[39m(\u001b[39m10\u001b[39m,\u001b[39m10\u001b[39m))\n\u001b[0;32m----> 3\u001b[0m plt\u001b[39m.\u001b[39mimshow(X[\u001b[39m1130\u001b[39;49m])\n\u001b[1;32m      4\u001b[0m plt\u001b[39m.\u001b[39mshow()\n",
      "\u001b[0;31mIndexError\u001b[0m: index 1130 is out of bounds for axis 0 with size 1126"
     ]
    },
    {
     "data": {
      "text/plain": [
       "<Figure size 1000x1000 with 0 Axes>"
      ]
     },
     "metadata": {},
     "output_type": "display_data"
    }
   ],
   "source": [
    "import matplotlib.pyplot as plt\n",
    "plt.figure(figsize=(10,10))\n",
    "plt.imshow(X[1130])\n",
    "plt.show()"
   ]
  }
 ],
 "metadata": {
  "kernelspec": {
   "display_name": "mac_env",
   "language": "python",
   "name": "python3"
  },
  "language_info": {
   "codemirror_mode": {
    "name": "ipython",
    "version": 3
   },
   "file_extension": ".py",
   "mimetype": "text/x-python",
   "name": "python",
   "nbconvert_exporter": "python",
   "pygments_lexer": "ipython3",
   "version": "3.10.0"
  },
  "orig_nbformat": 4,
  "vscode": {
   "interpreter": {
    "hash": "dae103b0abefff14f74f1e104d855e7141743c65472217b3d8c8917ec22807b1"
   }
  }
 },
 "nbformat": 4,
 "nbformat_minor": 2
}
