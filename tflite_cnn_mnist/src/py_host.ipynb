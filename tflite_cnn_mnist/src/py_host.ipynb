{
 "cells": [
  {
   "cell_type": "code",
   "execution_count": 2,
   "metadata": {},
   "outputs": [],
   "source": [
    "import serial\n",
    "from serial.tools.list_ports import comports\n",
    "\n",
    "import numpy as np \n",
    "\n",
    "# portName='/dev/cu.usbmodem14601'\n",
    "portName = 'COM3'\n",
    "baudRate = 9600\n"
   ]
  },
  {
   "cell_type": "code",
   "execution_count": 3,
   "metadata": {},
   "outputs": [],
   "source": [
    "X_test = np.load(\"/Users/sanda/Documents/esp_dev_files/tensor_test_3_cnn/src/MNIST_data/MNIST_X_test.npy\")\n",
    "y_test = np.load(\"/Users/sanda/Documents/esp_dev_files/tensor_test_3_cnn/src/MNIST_data/MNIST_y_test.npy\")"
   ]
  },
  {
   "cell_type": "code",
   "execution_count": 9,
   "metadata": {},
   "outputs": [
    {
     "name": "stdout",
     "output_type": "stream",
     "text": [
      "2\n"
     ]
    }
   ],
   "source": [
    "\n",
    "# np.savetxt(\"C:/Users/sanda/Documents/esp_dev_files/tensor_test_3_cnn/src/x_test_0_1.txt\", X_test[1], delimiter=\",\", fmt='%i')\n",
    "print(y_test[1])\n"
   ]
  },
  {
   "cell_type": "markdown",
   "metadata": {},
   "source": [
    "## sending data stuff"
   ]
  },
  {
   "cell_type": "code",
   "execution_count": 8,
   "metadata": {},
   "outputs": [
    {
     "name": "stdout",
     "output_type": "stream",
     "text": [
      "Couldn't open port. Try changing portName to one of the options below:\n"
     ]
    }
   ],
   "source": [
    "#open port\n",
    "try:\n",
    "    ser = serial.Serial(portName, baudRate)\n",
    "    print(\"Opening port \" + ser.name)\n",
    "\n",
    "except:\n",
    "    print(\"Couldn't open port. Try changing portName to one of the options below:\")\n",
    "    ports_list = comports()\n",
    "    for port_candidate in ports_list:\n",
    "        print(port_candidate.device)\n",
    "    exit(-1)\n",
    "\n"
   ]
  },
  {
   "cell_type": "code",
   "execution_count": null,
   "metadata": {},
   "outputs": [],
   "source": [
    "if ser.is_open == True:\n",
    "    print(\"Success!\")\n",
    "else:\n",
    "    print(\"Unable to open port :(\")"
   ]
  },
  {
   "cell_type": "code",
   "execution_count": null,
   "metadata": {},
   "outputs": [],
   "source": [
    "def numpy_flatter(X):\n",
    "    print(X.shape)\n",
    "    X = X.flatten()\n",
    "    print(X.shape)\n",
    "    return X\n",
    "\n",
    "numpy_flatter(X_test[0])"
   ]
  },
  {
   "cell_type": "code",
   "execution_count": null,
   "metadata": {},
   "outputs": [],
   "source": [
    "X_gen = iter(numpy_flatter(X=X_test[0]))\n",
    "done = False\n",
    "while done is False:\n",
    "    tmp = 0\n",
    "    try:\n",
    "        tmp = next(X_gen)\n",
    "    except:\n",
    "        done = True\n",
    "        continue\n",
    "    print(tmp)\n",
    "print(\"loop done\")"
   ]
  },
  {
   "cell_type": "code",
   "execution_count": null,
   "metadata": {},
   "outputs": [],
   "source": []
  }
 ],
 "metadata": {
  "kernelspec": {
   "display_name": "Python 3.9.4 ('win_env')",
   "language": "python",
   "name": "python3"
  },
  "language_info": {
   "codemirror_mode": {
    "name": "ipython",
    "version": 3
   },
   "file_extension": ".py",
   "mimetype": "text/x-python",
   "name": "python",
   "nbconvert_exporter": "python",
   "pygments_lexer": "ipython3",
   "version": "3.9.4"
  },
  "orig_nbformat": 4,
  "vscode": {
   "interpreter": {
    "hash": "1629040aa20769eae1814e4326c7e3178b345257bc8513796a3572c099e917f2"
   }
  }
 },
 "nbformat": 4,
 "nbformat_minor": 2
}
