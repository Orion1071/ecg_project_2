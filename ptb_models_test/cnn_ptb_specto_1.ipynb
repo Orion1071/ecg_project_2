{
 "cells": [
  {
   "cell_type": "code",
   "execution_count": 1,
   "metadata": {},
   "outputs": [],
   "source": [
    "import tensorflow as tf \n",
    "import pickle\n",
    "from sklearn.model_selection import train_test_split\n",
    "from keras.models import Sequential\n",
    "from keras.layers import Conv2D, MaxPool2D, Flatten, Activation, Dropout\n",
    "from sklearn.metrics import confusion_matrix, ConfusionMatrixDisplay, accuracy_score\n",
    "from keras.layers.core import Dense\n",
    "import numpy as np\n",
    "import matplotlib.pyplot as plt\n",
    "from physionet_processing import (fetch_h5data, spectrogram, \n",
    "                                  special_parameters, transformed_stats)\n",
    "\n",
    "from physionet_generator import DataGenerator"
   ]
  },
  {
   "cell_type": "code",
   "execution_count": 2,
   "metadata": {},
   "outputs": [],
   "source": [
    "# X = pickle.load(open(\"/Users/sanda/Documents/ptb_xl/ptb_xl_v2_pcl/all_X_ptbxl.pcl\", \"rb\"))\n",
    "# y = pickle.load(open(\"/Users/sanda/Documents/ptb_xl/ptb_xl_v2_pcl/all_y_ptbxl.pcl\", \"rb\"))\n",
    "\n",
    "X = pickle.load(open(\"/Users/macbookpro/Documents/ptb_xl/scp_filter_v2/all_X_ptbxl.pcl\", \"rb\"))\n",
    "y= pickle.load(open(\"/Users/macbookpro/Documents/ptb_xl/scp_filter_v2/all_y_ptbxl.pcl\", \"rb\"))\n",
    "\n",
    "# X = pickle.load(open(\"/scratch/thurasx/ptb_xl/scp_filter_v2/all_X_ptbxl.pcl\", \"rb\"))\n",
    "# y= pickle.load(open(\"/scratch/thurasx/ptb_xl/scp_filter_v2/all_y_ptbxl.pcl\", \"rb\"))\n"
   ]
  },
  {
   "cell_type": "code",
   "execution_count": 6,
   "metadata": {},
   "outputs": [
    {
     "ename": "ValueError",
     "evalue": "axes don't match array",
     "output_type": "error",
     "traceback": [
      "\u001b[0;31m---------------------------------------------------------------------------\u001b[0m",
      "\u001b[0;31mValueError\u001b[0m                                Traceback (most recent call last)",
      "\u001b[1;32m/Users/macbookpro/Documents/ecg_project_2/ptb_models_test/cnn_ptb_specto_1.ipynb Cell 3\u001b[0m in \u001b[0;36m<cell line: 11>\u001b[0;34m()\u001b[0m\n\u001b[1;32m      <a href='vscode-notebook-cell:/Users/macbookpro/Documents/ecg_project_2/ptb_models_test/cnn_ptb_specto_1.ipynb#W2sZmlsZQ%3D%3D?line=7'>8</a>\u001b[0m batch_size \u001b[39m=\u001b[39m \u001b[39m32\u001b[39m\n\u001b[1;32m     <a href='vscode-notebook-cell:/Users/macbookpro/Documents/ecg_project_2/ptb_models_test/cnn_ptb_specto_1.ipynb#W2sZmlsZQ%3D%3D?line=9'>10</a>\u001b[0m \u001b[39m# calculate image dimensions\u001b[39;00m\n\u001b[0;32m---> <a href='vscode-notebook-cell:/Users/macbookpro/Documents/ecg_project_2/ptb_models_test/cnn_ptb_specto_1.ipynb#W2sZmlsZQ%3D%3D?line=10'>11</a>\u001b[0m _, _, Sxx \u001b[39m=\u001b[39m spectrogram(X, nperseg \u001b[39m=\u001b[39;49m spectrogram_nperseg, noverlap \u001b[39m=\u001b[39;49m spectrogram_noverlap)\n",
      "File \u001b[0;32m~/Documents/ecg_project_2/ptb_models_test/physionet_processing.py:67\u001b[0m, in \u001b[0;36mspectrogram\u001b[0;34m(data, nperseg, noverlap, log_spectrogram)\u001b[0m\n\u001b[1;32m     65\u001b[0m fs \u001b[39m=\u001b[39m \u001b[39m300\u001b[39m\n\u001b[1;32m     66\u001b[0m f, t, Sxx \u001b[39m=\u001b[39m signal\u001b[39m.\u001b[39mspectrogram(data, fs\u001b[39m=\u001b[39mfs, nperseg\u001b[39m=\u001b[39mnperseg, noverlap\u001b[39m=\u001b[39mnoverlap)\n\u001b[0;32m---> 67\u001b[0m Sxx \u001b[39m=\u001b[39m np\u001b[39m.\u001b[39;49mtranspose(Sxx,[\u001b[39m0\u001b[39;49m,\u001b[39m2\u001b[39;49m,\u001b[39m1\u001b[39;49m])\n\u001b[1;32m     68\u001b[0m \u001b[39mif\u001b[39;00m log_spectrogram:\n\u001b[1;32m     69\u001b[0m     Sxx \u001b[39m=\u001b[39m \u001b[39mabs\u001b[39m(Sxx) \u001b[39m# Make sure, all values are positive before taking log\u001b[39;00m\n",
      "File \u001b[0;32m<__array_function__ internals>:180\u001b[0m, in \u001b[0;36mtranspose\u001b[0;34m(*args, **kwargs)\u001b[0m\n",
      "File \u001b[0;32m~/Documents/mac_env/lib/python3.10/site-packages/numpy/core/fromnumeric.py:660\u001b[0m, in \u001b[0;36mtranspose\u001b[0;34m(a, axes)\u001b[0m\n\u001b[1;32m    601\u001b[0m \u001b[39m@array_function_dispatch\u001b[39m(_transpose_dispatcher)\n\u001b[1;32m    602\u001b[0m \u001b[39mdef\u001b[39;00m \u001b[39mtranspose\u001b[39m(a, axes\u001b[39m=\u001b[39m\u001b[39mNone\u001b[39;00m):\n\u001b[1;32m    603\u001b[0m     \u001b[39m\"\"\"\u001b[39;00m\n\u001b[1;32m    604\u001b[0m \u001b[39m    Reverse or permute the axes of an array; returns the modified array.\u001b[39;00m\n\u001b[1;32m    605\u001b[0m \n\u001b[0;32m   (...)\u001b[0m\n\u001b[1;32m    658\u001b[0m \n\u001b[1;32m    659\u001b[0m \u001b[39m    \"\"\"\u001b[39;00m\n\u001b[0;32m--> 660\u001b[0m     \u001b[39mreturn\u001b[39;00m _wrapfunc(a, \u001b[39m'\u001b[39;49m\u001b[39mtranspose\u001b[39;49m\u001b[39m'\u001b[39;49m, axes)\n",
      "File \u001b[0;32m~/Documents/mac_env/lib/python3.10/site-packages/numpy/core/fromnumeric.py:57\u001b[0m, in \u001b[0;36m_wrapfunc\u001b[0;34m(obj, method, *args, **kwds)\u001b[0m\n\u001b[1;32m     54\u001b[0m     \u001b[39mreturn\u001b[39;00m _wrapit(obj, method, \u001b[39m*\u001b[39margs, \u001b[39m*\u001b[39m\u001b[39m*\u001b[39mkwds)\n\u001b[1;32m     56\u001b[0m \u001b[39mtry\u001b[39;00m:\n\u001b[0;32m---> 57\u001b[0m     \u001b[39mreturn\u001b[39;00m bound(\u001b[39m*\u001b[39;49margs, \u001b[39m*\u001b[39;49m\u001b[39m*\u001b[39;49mkwds)\n\u001b[1;32m     58\u001b[0m \u001b[39mexcept\u001b[39;00m \u001b[39mTypeError\u001b[39;00m:\n\u001b[1;32m     59\u001b[0m     \u001b[39m# A TypeError occurs if the object does have such a method in its\u001b[39;00m\n\u001b[1;32m     60\u001b[0m     \u001b[39m# class, but its signature is not identical to that of NumPy's. This\u001b[39;00m\n\u001b[0;32m   (...)\u001b[0m\n\u001b[1;32m     64\u001b[0m     \u001b[39m# Call _wrapit from within the except clause to ensure a potential\u001b[39;00m\n\u001b[1;32m     65\u001b[0m     \u001b[39m# exception has a traceback chain.\u001b[39;00m\n\u001b[1;32m     66\u001b[0m     \u001b[39mreturn\u001b[39;00m _wrapit(obj, method, \u001b[39m*\u001b[39margs, \u001b[39m*\u001b[39m\u001b[39m*\u001b[39mkwds)\n",
      "\u001b[0;31mValueError\u001b[0m: axes don't match array"
     ]
    }
   ],
   "source": [
    "#comvert X to\n",
    "# Maximum sequence length\n",
    "max_length = 1000\n",
    "# Output dimensions\n",
    "sequence_length = max_length\n",
    "spectrogram_nperseg = 32 # Spectrogram window\n",
    "spectrogram_noverlap = 8 # Spectrogram overlap\n",
    "batch_size = 32\n",
    "\n",
    "# calculate image dimensions\n",
    "_, _, Sxx = spectrogram(X, nperseg = spectrogram_nperseg, noverlap = spectrogram_noverlap)\n"
   ]
  }
 ],
 "metadata": {
  "kernelspec": {
   "display_name": "Python 3.10.0 ('mac_env')",
   "language": "python",
   "name": "python3"
  },
  "language_info": {
   "codemirror_mode": {
    "name": "ipython",
    "version": 3
   },
   "file_extension": ".py",
   "mimetype": "text/x-python",
   "name": "python",
   "nbconvert_exporter": "python",
   "pygments_lexer": "ipython3",
   "version": "3.10.0"
  },
  "orig_nbformat": 4,
  "vscode": {
   "interpreter": {
    "hash": "dae103b0abefff14f74f1e104d855e7141743c65472217b3d8c8917ec22807b1"
   }
  }
 },
 "nbformat": 4,
 "nbformat_minor": 2
}
