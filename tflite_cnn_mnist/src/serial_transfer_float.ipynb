{
 "cells": [
  {
   "cell_type": "code",
   "execution_count": 2,
   "metadata": {},
   "outputs": [],
   "source": [
    "import serial\n",
    "import pickle\n",
    "import numpy as np\n",
    "import time\n",
    "import matplotlib.pyplot as plt\n",
    "import struct\n",
    "from serial.tools.list_ports import comports\n",
    "\n",
    "\n",
    " \n"
   ]
  },
  {
   "cell_type": "code",
   "execution_count": null,
   "metadata": {},
   "outputs": [],
   "source": [
    "X = np.load(\"/Users/sanda/Documents/esp_dev_files/ecg_project_2/array_passing_test/X_data.npy\")"
   ]
  },
  {
   "cell_type": "code",
   "execution_count": null,
   "metadata": {},
   "outputs": [],
   "source": [
    "print(X.shape)\n",
    "print(type(X[0][0]))\n",
    "# plt.imshow(X.reshape(570,33))\n",
    "# plt.show()\n",
    "\n",
    "send_values = X.flatten()\n",
    "print(send_values)\n",
    "print(len(send_values), send_values.shape)"
   ]
  },
  {
   "cell_type": "code",
   "execution_count": 3,
   "metadata": {},
   "outputs": [
    {
     "name": "stdout",
     "output_type": "stream",
     "text": [
      "Opening port COM5\n",
      "Success!\n"
     ]
    }
   ],
   "source": [
    "#Dr Forsyth python \n",
    "\n",
    "# set parameters for serial port\n",
    "portName='COM5'\n",
    "#portName = 'COM3' 115200\n",
    "baudRate = 9600\n",
    "\n",
    "# attempt to open port\n",
    "try:\n",
    "    ser = serial.Serial()\n",
    "    ser.port = portName\n",
    "    ser.baudrate = baudRate\n",
    "    ser.open()\n",
    "    print(\"Opening port \" + ser.name)\n",
    "\n",
    "# if fail, print a helpful message\n",
    "except:\n",
    "    print(\"Couldn't open port. Try changing portName to one of the options below:\")\n",
    "    ports_list = comports()\n",
    "    for port_candidate in ports_list:\n",
    "        print(port_candidate.device)\n",
    "    \n",
    "\n",
    "if ser.is_open == True:\n",
    "    print(\"Success!\")\n",
    "\n",
    "else:\n",
    "    print(\"Unable to open port :(\")\n",
    "    \n",
    "ser.close()\n"
   ]
  },
  {
   "cell_type": "code",
   "execution_count": 5,
   "metadata": {},
   "outputs": [
    {
     "name": "stdout",
     "output_type": "stream",
     "text": [
      "Base 10:  3.0012 Base 16: 0x8 0x40 len: 8\n"
     ]
    }
   ],
   "source": [
    "#float64 double test ()\n",
    "#revere the byte order in cpp\n",
    "send_values = 3.0012\n",
    "\n",
    "\n",
    "as_short = float(send_values)\n",
    "\n",
    "# set the format to be little endian signed short (2 bytes) (int8)\n",
    "short_format = \">d\"\n",
    "\n",
    "# convert to desired bytes size (2 byte signed int) and order\n",
    "# https://docs.python.org/3/library/struct.html\n",
    "short_bytes = bytearray(struct.pack(short_format, as_short))\n",
    "\n",
    "print(\"Base 10: \", as_short, \"Base 16:\", hex(short_bytes[1]), hex(short_bytes[0]), \"len:\", len(short_bytes))\n"
   ]
  },
  {
   "cell_type": "code",
   "execution_count": 8,
   "metadata": {},
   "outputs": [
    {
     "name": "stdout",
     "output_type": "stream",
     "text": [
      "Target reported: !\n",
      "Target reported: !\n",
      "Target reported: Byte array received was: 0x752840\n",
      "Target reported: Value on my system is: 2.13\n"
     ]
    }
   ],
   "source": [
    "ser.open()\n",
    "\n",
    "# wait until we have an '!' from the Arduino\n",
    "try:\n",
    "    bytes = ser.readline()\n",
    "\n",
    "    # decode bytes into string\n",
    "    received = bytes.decode('utf-8')\n",
    "    received = received.replace('\\r', '').replace('\\n', '')\n",
    "\n",
    "    if '!' in received is False:\n",
    "        print(\"Invalid request received. Continue to wait.\")\n",
    "        exit(-1)\n",
    "\n",
    "    # clear the input buffer in case we've been spammed\n",
    "    ser.reset_input_buffer()\n",
    "\n",
    "    # send bytes down to Arduino\n",
    "    ser.write(short_bytes)\n",
    "\n",
    "    for i in range(0,4):\n",
    "        # wait until a response from the board\n",
    "        bytes = ser.readline()\n",
    "\n",
    "        # decode bytes into string\n",
    "        response = bytes.decode('utf-8')\n",
    "        response = response.replace('\\r', '').replace('\\n', '')\n",
    "\n",
    "        print(\"Target reported: \"+response)\n",
    "\n",
    "except:\n",
    "    ser.close()"
   ]
  },
  {
   "cell_type": "code",
   "execution_count": 1,
   "metadata": {},
   "outputs": [
    {
     "ename": "NameError",
     "evalue": "name 'ser' is not defined",
     "output_type": "error",
     "traceback": [
      "\u001b[1;31m---------------------------------------------------------------------------\u001b[0m",
      "\u001b[1;31mNameError\u001b[0m                                 Traceback (most recent call last)",
      "Cell \u001b[1;32mIn [1], line 1\u001b[0m\n\u001b[1;32m----> 1\u001b[0m ser\u001b[39m.\u001b[39mclose()\n",
      "\u001b[1;31mNameError\u001b[0m: name 'ser' is not defined"
     ]
    }
   ],
   "source": [
    "ser.close()"
   ]
  },
  {
   "cell_type": "code",
   "execution_count": null,
   "metadata": {},
   "outputs": [],
   "source": [
    "#int8 test (work)\n",
    "\n",
    "ser.open()\n",
    "send_values = 1\n",
    "\n",
    "\n",
    "as_short = int(send_values)\n",
    "\n",
    "# set the format to be little endian signed short (2 bytes) (int8)\n",
    "short_format = \"<h\"\n",
    "\n",
    "# convert to desired bytes size (2 byte signed int) and order\n",
    "# https://docs.python.org/3/library/struct.html\n",
    "short_bytes = struct.pack(short_format, as_short)\n",
    "\n",
    "print(\"Base 10: \", as_short, \"Base 16:\", hex(short_bytes[1]), hex(short_bytes[0]), \"len:\", len(short_bytes))\n",
    "ser.write(short_bytes)\n",
    "\n",
    "ser.close()\n"
   ]
  },
  {
   "cell_type": "code",
   "execution_count": null,
   "metadata": {},
   "outputs": [],
   "source": [
    "#int16 test (work)\n",
    "\n",
    "ser.open()\n",
    "send_values = 5\n",
    "\n",
    "\n",
    "as_short = int(send_values)\n",
    "\n",
    "# set the format to be little endian signed short (2 bytes) (int8)\n",
    "short_format = \"<i\"\n",
    "\n",
    "# convert to desired bytes size (2 byte signed int) and order\n",
    "# https://docs.python.org/3/library/struct.html\n",
    "short_bytes = struct.pack(short_format, as_short)\n",
    "\n",
    "print(\"Base 10: \", as_short, \"Base 16:\", hex(short_bytes[1]), hex(short_bytes[0]), \"len:\", len(short_bytes))\n",
    "ser.write(short_bytes)\n",
    "\n",
    "ser.close()"
   ]
  },
  {
   "cell_type": "code",
   "execution_count": null,
   "metadata": {},
   "outputs": [],
   "source": [
    "#float32 test (work)\n",
    "#revere the byte order in cpp\n",
    "ser.open()\n",
    "send_values = 3.2\n",
    "\n",
    "\n",
    "as_short = float(send_values)\n",
    "\n",
    "# set the format to be little endian signed short (2 bytes) (int8)\n",
    "short_format = \">f\"\n",
    "\n",
    "# convert to desired bytes size (2 byte signed int) and order\n",
    "# https://docs.python.org/3/library/struct.html\n",
    "short_bytes = bytearray(struct.pack(short_format, as_short))\n",
    "\n",
    "print(\"Base 10: \", as_short, \"Base 16:\", hex(short_bytes[1]), hex(short_bytes[0]), \"len:\", len(short_bytes))\n",
    "ser.write(short_bytes)\n",
    "# print(hex(short_bytes[3]), hex(short_bytes[2]),hex(short_bytes[1]), hex(short_bytes[0]))\n",
    "ser.close()"
   ]
  },
  {
   "cell_type": "code",
   "execution_count": null,
   "metadata": {},
   "outputs": [],
   "source": [
    "#float64 double test ()\n",
    "#revere the byte order in cpp\n",
    "ser.open()\n",
    "send_values = 3.0012\n",
    "\n",
    "\n",
    "as_short = float(send_values)\n",
    "\n",
    "# set the format to be little endian signed short (2 bytes) (int8)\n",
    "short_format = \">d\"\n",
    "\n",
    "# convert to desired bytes size (2 byte signed int) and order\n",
    "# https://docs.python.org/3/library/struct.html\n",
    "short_bytes = bytearray(struct.pack(short_format, as_short))\n",
    "\n",
    "print(\"Base 10: \", as_short, \"Base 16:\", hex(short_bytes[1]), hex(short_bytes[0]), \"len:\", len(short_bytes))\n",
    "ser.write(short_bytes)\n",
    "# print(hex(short_bytes[3]), hex(short_bytes[2]),hex(short_bytes[1]), hex(short_bytes[0]))\n",
    "ser.close()"
   ]
  },
  {
   "cell_type": "code",
   "execution_count": null,
   "metadata": {},
   "outputs": [],
   "source": [
    "# double arr test\n",
    "ser.open()\n",
    "arr_send = [1.1,2.2,3.5]\n",
    "for f in arr_send:\n",
    "    as_short = float(f)\n",
    "\n",
    "    # set the format to be little endian signed short (2 bytes) (int8)\n",
    "    short_format = \">d\"\n",
    "\n",
    "    # convert to desired bytes size (2 byte signed int) and order\n",
    "    # https://docs.python.org/3/library/struct.html\n",
    "    short_bytes = bytearray(struct.pack(short_format, as_short))\n",
    "\n",
    "    print(\"Base 10: \", as_short, \"Base 16:\", hex(short_bytes[7]), hex(short_bytes[6]), hex(short_bytes[5]), hex(short_bytes[4]), hex(short_bytes[3]), hex(short_bytes[2]), hex(short_bytes[1]), hex(short_bytes[0]), \"len:\", len(short_bytes))\n",
    "    ser.write(short_bytes)\n",
    "    time.sleep(0.1)\n",
    "    # print(hex(short_bytes[3]), hex(short_bytes[2]),hex(short_bytes[1]), hex(short_bytes[0]))\n",
    "ser.close()"
   ]
  },
  {
   "cell_type": "code",
   "execution_count": null,
   "metadata": {},
   "outputs": [],
   "source": [
    "arr_send = X.flatten()\n",
    "print(len(arr_send))\n",
    "print(arr_send.shape)\n",
    "print(arr_send[-1])"
   ]
  },
  {
   "cell_type": "code",
   "execution_count": null,
   "metadata": {},
   "outputs": [],
   "source": [
    "# double arr test (actual X data send)\n",
    "ser.open()\n",
    "arr_send = X.flatten()\n",
    "c = 0\n",
    "for f in arr_send:\n",
    "    as_short = float(f)\n",
    "\n",
    "    # set the format to be little endian signed short (2 bytes) (int8)\n",
    "    short_format = \">d\"\n",
    "\n",
    "    # convert to desired bytes size (2 byte signed int) and order\n",
    "    # https://docs.python.org/3/library/struct.html\n",
    "    short_bytes = bytearray(struct.pack(short_format, as_short))\n",
    "\n",
    "    print(\"Base 10: \", as_short, \"Base 16:\", hex(short_bytes[7]), hex(short_bytes[6]), hex(short_bytes[5]), hex(short_bytes[4]), hex(short_bytes[3]), hex(short_bytes[2]), hex(short_bytes[1]), hex(short_bytes[0]), \"len:\", len(short_bytes), c)\n",
    "    c += 1\n",
    "    ser.write(short_bytes)\n",
    "    time.sleep(0.01)\n",
    "    # print(hex(short_bytes[3]), hex(short_bytes[2]),hex(short_bytes[1]), hex(short_bytes[0]))\n",
    "ser.close()"
   ]
  },
  {
   "cell_type": "code",
   "execution_count": null,
   "metadata": {},
   "outputs": [],
   "source": [
    "#1D array send succeed\n",
    "\n",
    "# ser.open()\n",
    "# send_values = X.flatten()\n",
    "# print(send_values)\n",
    "# print(len(send_values))\n",
    "# values = bytearray(send_values)\n",
    "# ser.write(values)\n",
    "\n",
    "# total = 0\n",
    "# ret = []\n",
    "\n",
    "# ret= ser.read(len(send_values) * 4)\n",
    "# # ret = list(ret)\n",
    "# filtered = list (filter(lambda s:s != 0 , ret))\n",
    "# print(\"return val: \",filtered)\n",
    "# # print(\"return val: \",list(ret))\n",
    "# print(\"total: \", len(filtered))\n",
    "# ser.close()"
   ]
  }
 ],
 "metadata": {
  "kernelspec": {
   "display_name": "Python 3.9.4 ('win_env')",
   "language": "python",
   "name": "python3"
  },
  "language_info": {
   "codemirror_mode": {
    "name": "ipython",
    "version": 3
   },
   "file_extension": ".py",
   "mimetype": "text/x-python",
   "name": "python",
   "nbconvert_exporter": "python",
   "pygments_lexer": "ipython3",
   "version": "3.9.4"
  },
  "orig_nbformat": 4,
  "vscode": {
   "interpreter": {
    "hash": "1629040aa20769eae1814e4326c7e3178b345257bc8513796a3572c099e917f2"
   }
  }
 },
 "nbformat": 4,
 "nbformat_minor": 2
}
