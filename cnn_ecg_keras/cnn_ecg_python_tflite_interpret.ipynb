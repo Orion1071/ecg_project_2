{
 "cells": [
  {
   "cell_type": "code",
   "execution_count": 1,
   "metadata": {},
   "outputs": [
    {
     "name": "stdout",
     "output_type": "stream",
     "text": [
      "[name: \"/device:CPU:0\"\n",
      "device_type: \"CPU\"\n",
      "memory_limit: 268435456\n",
      "locality {\n",
      "}\n",
      "incarnation: 3321382630575991284\n",
      "xla_global_id: -1\n",
      "]\n",
      "Tensorflow version: 2.7.0\n",
      "Keras version: 2.7.0\n"
     ]
    }
   ],
   "source": [
    "import numpy as np\n",
    "import pandas as pd\n",
    "import os\n",
    "import h5py\n",
    "import matplotlib\n",
    "from matplotlib import pyplot as plt\n",
    "# %matplotlib inline\n",
    "# matplotlib.style.use('ggplot')\n",
    "\n",
    "from sklearn.model_selection import train_test_split\n",
    "from sklearn.preprocessing import LabelEncoder\n",
    "\n",
    "# Keras\n",
    "import keras\n",
    "from keras.models import Sequential\n",
    "from keras import layers\n",
    "from keras import optimizers\n",
    "from keras import backend as K\n",
    "from keras import regularizers\n",
    "\n",
    "# Tensorflow\n",
    "import tensorflow as tf\n",
    "from tensorflow.python.client import device_lib\n",
    "print(device_lib.list_local_devices())\n",
    "\n",
    "# Custom imports\n",
    "from physionet_processing import (fetch_h5data, spectrogram, \n",
    "                                  special_parameters, transformed_stats)\n",
    "\n",
    "from physionet_generator import DataGenerator\n",
    "\n",
    "print('Tensorflow version:', tf.__version__)\n",
    "print('Keras version:', keras.__version__)\n",
    "\n",
    "#Open hdf5 file, load the labels and define training/validation splits\n",
    "\n",
    "# Data folder and hdf5 dataset file\n",
    "data_root = os.path.normpath('.')\n",
    "#data_root = os.path.normpath('/media/sf_vbshare/physionet_data/')\n",
    "#data_root = os.path.normpath('/home/ubuntu/projects/csproject')\n",
    "# hd_file = os.path.join(data_root, 'physio.h5')\n",
    "hd_file = \"/Users/sanda/Documents/esp_dev_files/physio.h5\"\n",
    "label_file = \"/Users/sanda/Documents/esp_dev_files/ecg_project_2/cnn_ecg_keras/REFERENCE-v3.csv\"\n",
    "\n",
    "# mac \n",
    "# hd_file = \"/Users/macbookpro/Documents/physio.h5\"\n",
    "# label_file = \"/Users/macbookpro/Documents/ecg_project_2/cnn_ecg_keras/REFERENCE-v3.csv\"\n",
    "\n",
    "\n",
    "# Open hdf5 file\n",
    "h5file =  h5py.File(hd_file, 'r')\n",
    "\n",
    "# Get a list of dataset names \n",
    "dataset_list = list(h5file.keys())\n",
    "\n",
    "# Load the labels\n",
    "label_df = pd.read_csv(label_file, header = None, names = ['name', 'label'])\n",
    "# Filter the labels that are in the small demo set\n",
    "label_df = label_df[label_df['name'].isin(dataset_list)]\n",
    "\n",
    "# Encode labels to integer numbers\n",
    "label_set = list(sorted(label_df.label.unique()))\n",
    "encoder = LabelEncoder().fit(label_set)\n",
    "label_set_codings = encoder.transform(label_set)\n",
    "label_df = label_df.assign(encoded = encoder.transform(label_df.label))\n",
    "\n",
    "\n",
    "# Split the IDs in training and validation set\n",
    "test_split = 0.33\n",
    "idx = np.arange(label_df.shape[0])\n",
    "id_train, id_val, _, _ = train_test_split(idx, idx, \n",
    "                                         test_size = test_split,\n",
    "                                         shuffle = True,\n",
    "                                         random_state = 123)\n",
    "\n",
    "# Store the ids and labels in dictionaries\n",
    "partition = {'train': list(label_df.iloc[id_train,].name), \n",
    "             'validation': list(label_df.iloc[id_val,].name)}\n",
    "\n",
    "labels = dict(zip(label_df.name, label_df.encoded))\n",
    "\n",
    "#set up batch generator\n",
    "# Parameters needed for the batch generator\n",
    "\n",
    "# Maximum sequence length\n",
    "max_length = 18286\n",
    "\n",
    "# Output dimensions\n",
    "sequence_length = max_length\n",
    "spectrogram_nperseg = 64 # Spectrogram window\n",
    "spectrogram_noverlap = 32 # Spectrogram overlap\n",
    "n_classes = len(label_df.label.unique())\n",
    "batch_size = 32\n",
    "\n",
    "# calculate image dimensions\n",
    "data = fetch_h5data(h5file, [0], sequence_length)\n",
    "_, _, Sxx = spectrogram(data, nperseg = spectrogram_nperseg, noverlap = spectrogram_noverlap)\n",
    "dim = Sxx[0].shape\n",
    "\n",
    "\n",
    "\n",
    "\n",
    "params = {'batch_size': batch_size,\n",
    "          'dim': dim,\n",
    "          'nperseg': spectrogram_nperseg,\n",
    "          'noverlap': spectrogram_noverlap,\n",
    "          'n_channels': 1,\n",
    "          'sequence_length': sequence_length,\n",
    "          'n_classes': n_classes,\n",
    "          'shuffle': True}\n",
    "\n",
    "train_generator = DataGenerator(h5file, partition['train'], labels, augment = True, **params)\n",
    "val_generator = DataGenerator(h5file, partition['validation'], labels, augment = False, **params)"
   ]
  },
  {
   "cell_type": "code",
   "execution_count": 19,
   "metadata": {},
   "outputs": [
    {
     "name": "stdout",
     "output_type": "stream",
     "text": [
      "(32, 570, 33)\n",
      "(32, 4)\n",
      "32\n",
      "32\n",
      "(32, 570, 33)\n",
      "(32, 4)\n",
      "352\n",
      "352\n",
      "(570, 33)\n",
      "[1, 2, 1, 1, 1, 2, 2, 1, 1, 1, 1, 2, 1, 2, 1, 0, 2, 1, 1, 1, 2, 1, 2, 0, 1, 1, 1, 1, 2, 3, 2, 2, 1, 2, 1, 1, 1, 2, 2, 1, 1, 1, 1, 2, 1, 2, 1, 0, 2, 1, 1, 1, 2, 1, 2, 0, 1, 1, 1, 1, 2, 3, 2, 2, 0, 1, 1, 2, 1, 2, 2, 2, 1, 2, 1, 2, 1, 2, 2, 1, 1, 2, 1, 0, 1, 1, 2, 1, 1, 1, 1, 2, 1, 1, 1, 0, 1, 1, 1, 1, 1, 1, 2, 2, 1, 1, 2, 1, 1, 1, 0, 2, 2, 1, 1, 2, 1, 2, 2, 2, 1, 1, 1, 2, 2, 1, 2, 2, 1, 1, 1, 1, 1, 0, 0, 1, 1, 2, 1, 1, 2, 1, 3, 1, 1, 1, 1, 1, 1, 1, 1, 1, 1, 2, 1, 0, 1, 2, 2, 3, 2, 1, 1, 1, 2, 1, 1, 2, 2, 0, 2, 1, 1, 1, 1, 2, 2, 1, 2, 2, 1, 1, 2, 1, 1, 1, 2, 1, 1, 1, 1, 1, 2, 1, 1, 0, 1, 0, 1, 3, 1, 2, 2, 2, 1, 1, 1, 1, 2, 1, 2, 2, 2, 2, 1, 1, 1, 2, 1, 1, 1, 1, 1, 2, 0, 1, 2, 1, 2, 1, 2, 1, 1, 1, 2, 1, 1, 1, 1, 0, 1, 1, 1, 1, 1, 2, 2, 1, 1, 2, 2, 2, 2, 2, 0, 1, 2, 0, 1, 1, 2, 2, 2, 1, 1, 1, 2, 1, 1, 1, 2, 1, 0, 1, 1, 1, 2, 1, 2, 1, 1, 1, 2, 0, 1, 1, 0, 1, 2, 1, 3, 1, 1, 1, 1, 1, 2, 2, 0, 2, 0, 1, 1, 2, 1, 1, 1, 3, 2, 1, 0, 2, 2, 2, 1, 2, 1, 1, 0, 1, 1, 3, 3, 1, 2, 1, 1, 1, 2, 3, 0, 1, 1, 1, 2, 2, 1, 1, 1, 1, 1, 1, 1, 1, 2, 1, 1, 2, 1, 3, 1, 1]\n"
     ]
    }
   ],
   "source": [
    "for X,y in enumerate(val_generator):\n",
    "    break\n",
    "\n",
    "\n",
    "X_test = y[0]\n",
    "y_test = y[1]\n",
    "print(y[0].shape)\n",
    "print(y[1].shape)\n",
    "print(len(X_test))\n",
    "print(len(y_test))\n",
    "i = 0\n",
    "for X,y in enumerate(val_generator):\n",
    "    X_test = np.concatenate((X_test,y[0]),axis=0)\n",
    "    y_test = np.concatenate((y_test, y[1]),axis=0)\n",
    "    i += 1\n",
    "    if i == 10:\n",
    "        break\n",
    "\n",
    "\n",
    "print(y[0].shape)\n",
    "print(y[1].shape)\n",
    "print(len(X_test))\n",
    "print(len(y_test))\n",
    "\n",
    "\n",
    "# X_test = y[0]\n",
    "# y_test = y[1]\n",
    "y_actual = [y_test[i].argmax() for i in range(len(y_test))]\n",
    "print(X_test[1].shape)\n",
    "print([y_test[i].argmax() for i in range(len(y_test))])"
   ]
  },
  {
   "cell_type": "code",
   "execution_count": 3,
   "metadata": {},
   "outputs": [],
   "source": [
    "TFLITE_FILE_PATH = \"/Users/sanda/Documents/esp_dev_files/tensor_test_3_cnn/src/models/cnn_ecg_keras_full.tflite\""
   ]
  },
  {
   "cell_type": "code",
   "execution_count": 4,
   "metadata": {},
   "outputs": [
    {
     "name": "stdout",
     "output_type": "stream",
     "text": [
      "INFO:tensorflow:Assets written to: C:\\Users\\sanda\\AppData\\Local\\Temp\\tmpdcpzpv_9\\assets\n"
     ]
    }
   ],
   "source": [
    "#load model\n",
    "model = tf.keras.models.load_model('/Users/sanda/Documents/esp_dev_files/tensor_test_3_cnn/src/models/cnn_ecg_keras_full.h5')\n",
    "\n",
    "converter = tf.lite.TFLiteConverter.from_keras_model(model)\n",
    "tflite_model = converter.convert()\n",
    "\n",
    "with open(TFLITE_FILE_PATH, 'wb') as f:\n",
    "  f.write(tflite_model)"
   ]
  },
  {
   "cell_type": "code",
   "execution_count": 23,
   "metadata": {},
   "outputs": [],
   "source": [
    "interpreter = tf.lite.Interpreter(TFLITE_FILE_PATH)\n",
    "\n",
    "interpreter.allocate_tensors()\n",
    "y_pred = []\n",
    "# Get input and output tensors.\n",
    "input_details = interpreter.get_input_details()\n",
    "output_details = interpreter.get_output_details()\n",
    "\n",
    "for i in range(len(X_test)):\n",
    "    # Test the model on random input data.\n",
    "    input_shape = input_details[0]['shape']\n",
    "    input_data = X_test[i].reshape(1,570,33,1).astype(np.float32)\n",
    "    interpreter.set_tensor(input_details[0]['index'], input_data)\n",
    "\n",
    "    interpreter.invoke()\n",
    "\n",
    "    # The function `get_tensor()` returns a copy of the tensor data.\n",
    "    # Use `tensor()` in order to get a pointer to the tensor.\n",
    "    output_data = interpreter.get_tensor(output_details[0]['index'])\n",
    "    y_pred.append(output_data.argmax())\n",
    "    # print(\"---------\")\n",
    "    # print(output_data.argmax())\n",
    "    # print(y_actual[i])\n",
    "    # print(\"---------\")"
   ]
  },
  {
   "cell_type": "code",
   "execution_count": 21,
   "metadata": {},
   "outputs": [
    {
     "name": "stdout",
     "output_type": "stream",
     "text": [
      "0.7471590909090909\n"
     ]
    },
    {
     "data": {
      "text/plain": [
       "<sklearn.metrics._plot.confusion_matrix.ConfusionMatrixDisplay at 0x1487098ae50>"
      ]
     },
     "execution_count": 21,
     "metadata": {},
     "output_type": "execute_result"
    },
    {
     "data": {
      "image/png": "[encoded data removed]",
      "text/plain": [
       "<Figure size 640x480 with 2 Axes>"
      ]
     },
     "metadata": {},
     "output_type": "display_data"
    }
   ],
   "source": [
    "from sklearn.metrics import accuracy_score, confusion_matrix, ConfusionMatrixDisplay\n",
    "\n",
    "print(accuracy_score(y_actual, y_pred))\n",
    "cf = ConfusionMatrixDisplay(confusion_matrix(y_actual, y_pred))\n",
    "cf.plot()"
   ]
  },
  {
   "cell_type": "code",
   "execution_count": 22,
   "metadata": {},
   "outputs": [
    {
     "name": "stdout",
     "output_type": "stream",
     "text": [
      "0.7471590909090909\n"
     ]
    },
    {
     "data": {
      "text/plain": [
       "<sklearn.metrics._plot.confusion_matrix.ConfusionMatrixDisplay at 0x14859bf57c0>"
      ]
     },
     "execution_count": 22,
     "metadata": {},
     "output_type": "execute_result"
    },
    {
     "data": {
      "image/png": "[encoded data removed]",
      "text/plain": [
       "<Figure size 640x480 with 2 Axes>"
      ]
     },
     "metadata": {},
     "output_type": "display_data"
    }
   ],
   "source": [
    "y_pred = model.predict(X_test)\n",
    "y_pred = [y_pred[i].argmax() for i in range(len(y_pred))]\n",
    "print(accuracy_score(y_actual, y_pred))\n",
    "cf = ConfusionMatrixDisplay(confusion_matrix(y_actual, y_pred))\n",
    "cf.plot()"
   ]
  }
 ],
 "metadata": {
  "kernelspec": {
   "display_name": "mac_env",
   "language": "python",
   "name": "python3"
  },
  "language_info": {
   "codemirror_mode": {
    "name": "ipython",
    "version": 3
   },
   "file_extension": ".py",
   "mimetype": "text/x-python",
   "name": "python",
   "nbconvert_exporter": "python",
   "pygments_lexer": "ipython3",
   "version": "3.10.0 (v3.10.0:b494f5935c, Oct  4 2021, 14:59:19) [Clang 12.0.5 (clang-1205.0.22.11)]"
  },
  "orig_nbformat": 4,
  "vscode": {
   "interpreter": {
    "hash": "dae103b0abefff14f74f1e104d855e7141743c65472217b3d8c8917ec22807b1"
   }
  }
 },
 "nbformat": 4,
 "nbformat_minor": 2
}
