{
 "cells": [
  {
   "cell_type": "code",
   "execution_count": null,
   "metadata": {},
   "outputs": [],
   "source": [
    "import tensorflow as tf \n",
    "import pickle\n",
    "from sklearn.model_selection import train_test_split\n",
    "from keras.models import Sequential\n",
    "from keras.layers import Conv2D, MaxPool2D, Flatten, Activation, Dropout\n",
    "from sklearn.metrics import confusion_matrix, ConfusionMatrixDisplay, accuracy_score\n",
    "from keras.layers.core import Dense\n",
    "import numpy as np\n",
    "import matplotlib.pyplot as plt\n",
    "from physionet_processing import (fetch_h5data, spectrogram, \n",
    "                                  special_parameters, transformed_stats)\n",
    "\n",
    "from physionet_generator import DataGenerator\n",
    "from scipy import signal"
   ]
  },
  {
   "cell_type": "code",
   "execution_count": null,
   "metadata": {},
   "outputs": [],
   "source": [
    "# X = pickle.load(open(\"/Users/sanda/Documents/ptb_xl/ptb_xl_v2_pcl/all_X_ptbxl.pcl\", \"rb\"))\n",
    "# y = pickle.load(open(\"/Users/sanda/Documents/ptb_xl/ptb_xl_v2_pcl/all_y_ptbxl.pcl\", \"rb\"))\n",
    "\n",
    "# X = pickle.load(open(\"/Users/macbookpro/Documents/ptb_xl/scp_filter_v2/all_X_ptbxl.pcl\", \"rb\"))\n",
    "# y= pickle.load(open(\"/Users/macbookpro/Documents/ptb_xl/scp_filter_v2/all_y_ptbxl.pcl\", \"rb\"))\n",
    "\n",
    "X = pickle.load(open(\"/scratch/thurasx/ptb_xl/scp_filter_v2/all_X_ptbxl.pcl\", \"rb\"))\n",
    "y= pickle.load(open(\"/scratch/thurasx/ptb_xl/scp_filter_v2/all_y_ptbxl.pcl\", \"rb\"))\n"
   ]
  },
  {
   "cell_type": "code",
   "execution_count": null,
   "metadata": {},
   "outputs": [],
   "source": [
    "print(X.shape)"
   ]
  },
  {
   "cell_type": "code",
   "execution_count": null,
   "metadata": {},
   "outputs": [],
   "source": [
    "#comvert X to\n",
    "# Maximum sequence length\n",
    "max_length = 1000\n",
    "# Output dimensions\n",
    "sequence_length = max_length\n",
    "spectrogram_nperseg =32 # Spectrogram window\n",
    "spectrogram_noverlap = 16 # Spectrogram overlap\n",
    "batch_size = 32\n",
    "log_spectrogram=True\n",
    "\n",
    "fs = 300\n",
    "f, t, Sxx = signal.spectrogram(X[:,:,1], fs=fs, nperseg=spectrogram_nperseg, noverlap=spectrogram_noverlap)\n",
    "# Sxx = np.transpose(Sxx,[0,2,1])\n",
    "if log_spectrogram:\n",
    "    Sxx = abs(Sxx) # Make sure, all values are positive before taking log\n",
    "    mask = Sxx > 0 # We dont want to take the log of zero\n",
    "    Sxx[mask] = np.log(Sxx[mask])\n",
    "\n"
   ]
  },
  {
   "cell_type": "code",
   "execution_count": null,
   "metadata": {},
   "outputs": [],
   "source": [
    "print(Sxx.shape)\n",
    "plt.imshow(Sxx[0])\n",
    "plt.show()"
   ]
  },
  {
   "cell_type": "code",
   "execution_count": null,
   "metadata": {},
   "outputs": [],
   "source": [
    "X_train, X_test, y_train, y_test = train_test_split(Sxx, y, random_state=1)\n",
    "layer = tf.keras.layers.CategoryEncoding(num_tokens=5, output_mode=\"one_hot\")\n",
    "y_train = layer(y_train.astype(np.int32))"
   ]
  },
  {
   "cell_type": "code",
   "execution_count": null,
   "metadata": {},
   "outputs": [],
   "source": [
    "#define model\n",
    "model = Sequential()\n",
    "model.add(Conv2D(256, (5,5), input_shape=(17,61,1)))\n",
    "model.add(Activation('relu'))\n",
    "# model.add(MaxPool2D(pool_size=(5,1)))\n",
    "\n",
    "model.add(Conv2D(128, (4,4)))\n",
    "model.add(Activation('relu'))\n",
    "# model.add(MaxPool2D(pool_size=(4,1)))\n",
    "\n",
    "model.add(Conv2D(64, (3,3)))\n",
    "model.add(Activation('relu'))\n",
    "model.add(MaxPool2D(pool_size=(2,1)))\n",
    "\n",
    "model.add(Flatten())\n",
    "model.add(Dense(10))\n",
    "model.add(Dropout(0.3))\n",
    "model.add(Dense(5))\n",
    "model.add(Activation('softmax'))\n",
    "\n",
    "model.compile(loss=tf.keras.losses.categorical_crossentropy, optimizer=tf.keras.optimizers.Adam(), metrics=['accuracy'])\n",
    "\n",
    "model.summary()"
   ]
  },
  {
   "cell_type": "code",
   "execution_count": null,
   "metadata": {},
   "outputs": [],
   "source": [
    "epoch = 100\n",
    "validation_step = 100\n",
    "batch_size = 100\n",
    "history = model.fit(X_train, y_train, validation_split=0.2, epochs=epoch, validation_steps=validation_step, verbose=1)"
   ]
  },
  {
   "cell_type": "code",
   "execution_count": null,
   "metadata": {},
   "outputs": [],
   "source": [
    "plt.figure(figsize=(10,8))\n",
    "plt.plot(history.history['loss'], label=\"loss\")\n",
    "plt.plot(history.history['accuracy'], label = \"accuracy\")\n",
    "plt.plot(history.history['val_accuracy'], label=\"val_accuracy\")\n",
    "plt.legend()\n",
    "plt.show()"
   ]
  },
  {
   "cell_type": "code",
   "execution_count": null,
   "metadata": {},
   "outputs": [],
   "source": [
    "pred = model.predict(X_test)\n",
    "pred_nohe = np.array([i.argmax() for i in pred])\n",
    "disp = ConfusionMatrixDisplay(confusion_matrix=confusion_matrix(y_test.astype(np.int32), pred_nohe))\n",
    "print(f'The accuracy of the model is {accuracy_score(y_test.astype(np.int32), pred_nohe )}')\n",
    "disp.plot()"
   ]
  }
 ],
 "metadata": {
  "kernelspec": {
   "display_name": "Python 3.10.0 ('mac_env')",
   "language": "python",
   "name": "python3"
  },
  "language_info": {
   "codemirror_mode": {
    "name": "ipython",
    "version": 3
   },
   "file_extension": ".py",
   "mimetype": "text/x-python",
   "name": "python",
   "nbconvert_exporter": "python",
   "pygments_lexer": "ipython3",
   "version": "3.10.0"
  },
  "orig_nbformat": 4,
  "vscode": {
   "interpreter": {
    "hash": "dae103b0abefff14f74f1e104d855e7141743c65472217b3d8c8917ec22807b1"
   }
  }
 },
 "nbformat": 4,
 "nbformat_minor": 2
}
