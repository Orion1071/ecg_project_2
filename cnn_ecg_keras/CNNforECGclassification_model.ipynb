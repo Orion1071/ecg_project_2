{
 "cells": [
  {
   "cell_type": "code",
   "execution_count": 9,
   "metadata": {},
   "outputs": [
    {
     "name": "stdout",
     "output_type": "stream",
     "text": [
      "[name: \"/device:CPU:0\"\n",
      "device_type: \"CPU\"\n",
      "memory_limit: 268435456\n",
      "locality {\n",
      "}\n",
      "incarnation: 17456192589501065544\n",
      "xla_global_id: -1\n",
      "]\n",
      "Tensorflow version: 2.9.2\n",
      "Keras version: 2.9.0\n"
     ]
    }
   ],
   "source": [
    "import numpy as np\n",
    "import pandas as pd\n",
    "import os\n",
    "import h5py\n",
    "import matplotlib\n",
    "from matplotlib import pyplot as plt\n",
    "%matplotlib inline\n",
    "matplotlib.style.use('ggplot')\n",
    "\n",
    "from sklearn.model_selection import train_test_split\n",
    "from sklearn.preprocessing import LabelEncoder\n",
    "\n",
    "# Keras\n",
    "import keras\n",
    "from keras.models import Sequential\n",
    "from keras import layers\n",
    "from keras import optimizers\n",
    "from keras import backend as K\n",
    "from keras import regularizers\n",
    "\n",
    "# Tensorflow\n",
    "import tensorflow as tf\n",
    "from tensorflow.python.client import device_lib\n",
    "print(device_lib.list_local_devices())\n",
    "\n",
    "# Custom imports\n",
    "from physionet_processing import (fetch_h5data, spectrogram, \n",
    "                                  special_parameters, transformed_stats)\n",
    "\n",
    "from physionet_generator import DataGenerator\n",
    "\n",
    "print('Tensorflow version:', tf.__version__)\n",
    "print('Keras version:', keras.__version__)"
   ]
  },
  {
   "cell_type": "markdown",
   "metadata": {},
   "source": [
    "### Open hdf5 file, load the labels and define training/validation splits ###"
   ]
  },
  {
   "cell_type": "code",
   "execution_count": 10,
   "metadata": {},
   "outputs": [
    {
     "name": "stdout",
     "output_type": "stream",
     "text": [
      "Unique labels: ['A' 'N' 'O' '~']\n",
      "Unique codings: [0 1 2 3]\n",
      "Dataset labels:\n",
      "        name label  encoded\n",
      "100  A00101     A        0\n",
      "101  A00102     A        0\n",
      "102  A00103     O        2\n",
      "103  A00104     N        1\n",
      "104  A00105     N        1\n",
      "105  A00106     ~        3\n",
      "106  A00107     A        0\n",
      "107  A00108     O        2\n",
      "108  A00109     N        1\n",
      "109  A00110     O        2\n"
     ]
    }
   ],
   "source": [
    "# Data folder and hdf5 dataset file\n",
    "data_root = os.path.normpath('.')\n",
    "#data_root = os.path.normpath('/media/sf_vbshare/physionet_data/')\n",
    "#data_root = os.path.normpath('/home/ubuntu/projects/csproject')\n",
    "# hd_file = os.path.join(data_root, 'physio.h5')\n",
    "hd_file = \"/Users/macbookpro/Documents/physio.h5\"\n",
    "label_file = os.path.join(data_root, 'REFERENCE-v3.csv')\n",
    "\n",
    "# Open hdf5 file\n",
    "h5file =  h5py.File(hd_file, 'r')\n",
    "\n",
    "# Get a list of dataset names \n",
    "dataset_list = list(h5file.keys())\n",
    "\n",
    "# Load the labels\n",
    "label_df = pd.read_csv(label_file, header = None, names = ['name', 'label'])\n",
    "# Filter the labels that are in the small demo set\n",
    "label_df = label_df[label_df['name'].isin(dataset_list)]\n",
    "\n",
    "# Encode labels to integer numbers\n",
    "label_set = list(sorted(label_df.label.unique()))\n",
    "encoder = LabelEncoder().fit(label_set)\n",
    "label_set_codings = encoder.transform(label_set)\n",
    "label_df = label_df.assign(encoded = encoder.transform(label_df.label))\n",
    "\n",
    "print('Unique labels:', encoder.inverse_transform(label_set_codings))\n",
    "print('Unique codings:', label_set_codings)\n",
    "print('Dataset labels:\\n', label_df.iloc[100:110,])\n",
    "\n",
    "# Split the IDs in training and validation set\n",
    "test_split = 0.33\n",
    "idx = np.arange(label_df.shape[0])\n",
    "id_train, id_val, _, _ = train_test_split(idx, idx, \n",
    "                                         test_size = test_split,\n",
    "                                         shuffle = True,\n",
    "                                         random_state = 123)\n",
    "\n",
    "# Store the ids and labels in dictionaries\n",
    "partition = {'train': list(label_df.iloc[id_train,].name), \n",
    "             'validation': list(label_df.iloc[id_val,].name)}\n",
    "\n",
    "labels = dict(zip(label_df.name, label_df.encoded))"
   ]
  },
  {
   "cell_type": "code",
   "execution_count": 11,
   "metadata": {},
   "outputs": [
    {
     "name": "stdout",
     "output_type": "stream",
     "text": [
      "<HDF5 file \"physio.h5\" (mode r)>\n"
     ]
    }
   ],
   "source": [
    "print(h5file)"
   ]
  },
  {
   "cell_type": "markdown",
   "metadata": {},
   "source": [
    "### Set up batch generators ###"
   ]
  },
  {
   "cell_type": "code",
   "execution_count": 12,
   "metadata": {},
   "outputs": [
    {
     "name": "stdout",
     "output_type": "stream",
     "text": [
      "(570, 33)\n",
      "(1, 570, 33)\n"
     ]
    }
   ],
   "source": [
    "# Parameters needed for the batch generator\n",
    "\n",
    "# Maximum sequence length\n",
    "max_length = 18286\n",
    "\n",
    "# Output dimensions\n",
    "sequence_length = max_length\n",
    "spectrogram_nperseg = 64 # Spectrogram window\n",
    "spectrogram_noverlap = 32 # Spectrogram overlap\n",
    "n_classes = len(label_df.label.unique())\n",
    "batch_size = 32\n",
    "\n",
    "# calculate image dimensions\n",
    "data = fetch_h5data(h5file, [0], sequence_length)\n",
    "_, _, Sxx = spectrogram(data, nperseg = spectrogram_nperseg, noverlap = spectrogram_noverlap)\n",
    "dim = Sxx[0].shape\n",
    "print(dim)\n",
    "print(Sxx.shape)\n",
    "# print('Maximum sequence length:', max_length)"
   ]
  },
  {
   "cell_type": "code",
   "execution_count": 13,
   "metadata": {},
   "outputs": [
    {
     "name": "stdout",
     "output_type": "stream",
     "text": [
      "X shape: (32, 570, 33, 1)\n",
      "y shape: (32, 4)\n",
      "X type: float64\n"
     ]
    }
   ],
   "source": [
    "params = {'batch_size': batch_size,\n",
    "          'dim': dim,\n",
    "          'nperseg': spectrogram_nperseg,\n",
    "          'noverlap': spectrogram_noverlap,\n",
    "          'n_channels': 1,\n",
    "          'sequence_length': sequence_length,\n",
    "          'n_classes': n_classes,\n",
    "          'shuffle': True}\n",
    "\n",
    "train_generator = DataGenerator(h5file, partition['train'], labels, augment = True, **params)\n",
    "val_generator = DataGenerator(h5file, partition['validation'], labels, augment = False, **params)\n",
    "\n",
    "for i, batch in enumerate(train_generator):\n",
    "    if i == 1:\n",
    "        break\n",
    "\n",
    "X = batch[0]\n",
    "y = batch[1]\n",
    "\n",
    "print('X shape:', X.shape)\n",
    "print('y shape:', y.shape)\n",
    "print('X type:', np.dtype(X[0,0,0,0]))"
   ]
  },
  {
   "cell_type": "code",
   "execution_count": 14,
   "metadata": {},
   "outputs": [
    {
     "data": {
      "image/png": "[encoded data removed]",
      "text/plain": [
       "<Figure size 432x288 with 1 Axes>"
      ]
     },
     "metadata": {},
     "output_type": "display_data"
    }
   ],
   "source": [
    "import matplotlib.pyplot as plt\n",
    "\n",
    "plt.imshow(X[2,:,:,0].transpose(), cmap = 'jet', aspect = 'auto')\n",
    "plt.show()\n",
    "\n",
    "# print(len(X))"
   ]
  },
  {
   "cell_type": "code",
   "execution_count": 15,
   "metadata": {},
   "outputs": [
    {
     "data": {
      "image/png": "[encoded data removed]",
      "text/plain": [
       "<Figure size 1080x216 with 5 Axes>"
      ]
     },
     "metadata": {},
     "output_type": "display_data"
    }
   ],
   "source": [
    "def imshow_batch(X, y, batch_idx):\n",
    "    \n",
    "    batch_labels = ['Class label:' + str(np.argmax(y[idx,])) for idx in batch_idx]\n",
    "    #batch_labels = ['Class label:' + str(np.argmax(y[idx,])[0]) for idx in batch_idx]\n",
    "\n",
    "    fig, ax = plt.subplots(1, len(batch_idx), figsize = (15, 3))\n",
    "\n",
    "    for i, idx in enumerate(batch_idx):\n",
    "    \n",
    "        ax[i].imshow(X[idx, :, :, 0].transpose(), cmap = 'jet', aspect = 'auto')\n",
    "        ax[i].grid(False)\n",
    "        #ax[i].axis('off')\n",
    "        ax[i].invert_yaxis()\n",
    "        ax[i].set(title = batch_labels[i])\n",
    "    \n",
    "    plt.show()\n",
    "        \n",
    "    return fig\n",
    "\n",
    "batch_idx = [0, 1, 2, 3, 4]\n",
    "fig = imshow_batch(X, y, batch_idx)\n",
    "plt.show()"
   ]
  },
  {
   "cell_type": "markdown",
   "metadata": {},
   "source": [
    "### Define the model ###"
   ]
  },
  {
   "cell_type": "code",
   "execution_count": 16,
   "metadata": {},
   "outputs": [],
   "source": [
    "# Convolutional blocks\n",
    "def conv2d_block(model, depth, layer_filters, filters_growth, \n",
    "                 strides_start, strides_end, input_shape, first_layer = False):\n",
    "    \n",
    "    ''' Convolutional block. \n",
    "    depth: number of convolutional layers in the block (4)\n",
    "    filters: 2D kernel size (32)\n",
    "    filters_growth: kernel size increase at the end of block (32)\n",
    "    first_layer: provide input_shape for first layer'''\n",
    "    \n",
    "    # Fixed parameters for convolution\n",
    "    conv_parms = {'kernel_size': (3, 3),\n",
    "                  'padding': 'same',\n",
    "                  'dilation_rate': (1, 1),\n",
    "                  'activation': None,\n",
    "                  'data_format': 'channels_last',\n",
    "                  'kernel_initializer': 'glorot_normal'}\n",
    "\n",
    "    for l in range(depth):\n",
    "\n",
    "        if first_layer:\n",
    "            \n",
    "            # First layer needs an input_shape \n",
    "            model.add(layers.Conv2D(filters = layer_filters,\n",
    "                                    strides = strides_start,\n",
    "                                    input_shape = input_shape, **conv_parms))\n",
    "            first_layer = False\n",
    "        \n",
    "        else:\n",
    "            # All other layers will not need an input_shape parameter\n",
    "            if l == depth - 1:\n",
    "                # Last layer in each block is different: adding filters and using stride 2\n",
    "                layer_filters += filters_growth\n",
    "                model.add(layers.Conv2D(filters = layer_filters,\n",
    "                                        strides = strides_end, **conv_parms))\n",
    "            else:\n",
    "                model.add(layers.Conv2D(filters = layer_filters,\n",
    "                                        strides = strides_start, **conv_parms))\n",
    "        \n",
    "        # Continue with batch normalization and activation for all layers in the block\n",
    "        model.add(layers.BatchNormalization(center = True, scale = True))\n",
    "        model.add(layers.Activation('relu'))\n",
    "    \n",
    "    return model\n",
    "\n",
    "def MeanOverTime():\n",
    "    lam_layer = layers.Lambda(lambda x: K.mean(x, axis=1), output_shape=lambda s: (1, s[2]))\n",
    "    return lam_layer"
   ]
  },
  {
   "cell_type": "code",
   "execution_count": 17,
   "metadata": {},
   "outputs": [
    {
     "name": "stdout",
     "output_type": "stream",
     "text": [
      "Model: \"sequential\"\n",
      "_________________________________________________________________\n",
      " Layer (type)                Output Shape              Param #   \n",
      "=================================================================\n",
      " conv2d (Conv2D)             (None, 570, 33, 32)       320       \n",
      "                                                                 \n",
      " batch_normalization (BatchN  (None, 570, 33, 32)      128       \n",
      " ormalization)                                                   \n",
      "                                                                 \n",
      " activation (Activation)     (None, 570, 33, 32)       0         \n",
      "                                                                 \n",
      " conv2d_1 (Conv2D)           (None, 570, 33, 32)       9248      \n",
      "                                                                 \n",
      " batch_normalization_1 (Batc  (None, 570, 33, 32)      128       \n",
      " hNormalization)                                                 \n",
      "                                                                 \n",
      " activation_1 (Activation)   (None, 570, 33, 32)       0         \n",
      "                                                                 \n",
      " conv2d_2 (Conv2D)           (None, 570, 33, 32)       9248      \n",
      "                                                                 \n",
      " batch_normalization_2 (Batc  (None, 570, 33, 32)      128       \n",
      " hNormalization)                                                 \n",
      "                                                                 \n",
      " activation_2 (Activation)   (None, 570, 33, 32)       0         \n",
      "                                                                 \n",
      " conv2d_3 (Conv2D)           (None, 285, 17, 64)       18496     \n",
      "                                                                 \n",
      " batch_normalization_3 (Batc  (None, 285, 17, 64)      256       \n",
      " hNormalization)                                                 \n",
      "                                                                 \n",
      " activation_3 (Activation)   (None, 285, 17, 64)       0         \n",
      "                                                                 \n",
      " conv2d_4 (Conv2D)           (None, 285, 17, 64)       36928     \n",
      "                                                                 \n",
      " batch_normalization_4 (Batc  (None, 285, 17, 64)      256       \n",
      " hNormalization)                                                 \n",
      "                                                                 \n",
      " activation_4 (Activation)   (None, 285, 17, 64)       0         \n",
      "                                                                 \n",
      " conv2d_5 (Conv2D)           (None, 285, 17, 64)       36928     \n",
      "                                                                 \n",
      " batch_normalization_5 (Batc  (None, 285, 17, 64)      256       \n",
      " hNormalization)                                                 \n",
      "                                                                 \n",
      " activation_5 (Activation)   (None, 285, 17, 64)       0         \n",
      "                                                                 \n",
      " conv2d_6 (Conv2D)           (None, 285, 17, 64)       36928     \n",
      "                                                                 \n",
      " batch_normalization_6 (Batc  (None, 285, 17, 64)      256       \n",
      " hNormalization)                                                 \n",
      "                                                                 \n",
      " activation_6 (Activation)   (None, 285, 17, 64)       0         \n",
      "                                                                 \n",
      " conv2d_7 (Conv2D)           (None, 143, 9, 96)        55392     \n",
      "                                                                 \n",
      " batch_normalization_7 (Batc  (None, 143, 9, 96)       384       \n",
      " hNormalization)                                                 \n",
      "                                                                 \n",
      " activation_7 (Activation)   (None, 143, 9, 96)        0         \n",
      "                                                                 \n",
      " conv2d_8 (Conv2D)           (None, 143, 9, 96)        83040     \n",
      "                                                                 \n",
      " batch_normalization_8 (Batc  (None, 143, 9, 96)       384       \n",
      " hNormalization)                                                 \n",
      "                                                                 \n",
      " activation_8 (Activation)   (None, 143, 9, 96)        0         \n",
      "                                                                 \n",
      " conv2d_9 (Conv2D)           (None, 143, 9, 96)        83040     \n",
      "                                                                 \n",
      " batch_normalization_9 (Batc  (None, 143, 9, 96)       384       \n",
      " hNormalization)                                                 \n",
      "                                                                 \n",
      " activation_9 (Activation)   (None, 143, 9, 96)        0         \n",
      "                                                                 \n",
      " conv2d_10 (Conv2D)          (None, 143, 9, 96)        83040     \n",
      "                                                                 \n",
      " batch_normalization_10 (Bat  (None, 143, 9, 96)       384       \n",
      " chNormalization)                                                \n",
      "                                                                 \n",
      " activation_10 (Activation)  (None, 143, 9, 96)        0         \n",
      "                                                                 \n",
      " conv2d_11 (Conv2D)          (None, 72, 5, 128)        110720    \n",
      "                                                                 \n",
      " batch_normalization_11 (Bat  (None, 72, 5, 128)       512       \n",
      " chNormalization)                                                \n",
      "                                                                 \n",
      " activation_11 (Activation)  (None, 72, 5, 128)        0         \n",
      "                                                                 \n",
      " conv2d_12 (Conv2D)          (None, 72, 5, 128)        147584    \n",
      "                                                                 \n",
      " batch_normalization_12 (Bat  (None, 72, 5, 128)       512       \n",
      " chNormalization)                                                \n",
      "                                                                 \n",
      " activation_12 (Activation)  (None, 72, 5, 128)        0         \n",
      "                                                                 \n",
      " conv2d_13 (Conv2D)          (None, 72, 5, 128)        147584    \n",
      "                                                                 \n",
      " batch_normalization_13 (Bat  (None, 72, 5, 128)       512       \n",
      " chNormalization)                                                \n",
      "                                                                 \n",
      " activation_13 (Activation)  (None, 72, 5, 128)        0         \n",
      "                                                                 \n",
      " conv2d_14 (Conv2D)          (None, 72, 5, 128)        147584    \n",
      "                                                                 \n",
      " batch_normalization_14 (Bat  (None, 72, 5, 128)       512       \n",
      " chNormalization)                                                \n",
      "                                                                 \n",
      " activation_14 (Activation)  (None, 72, 5, 128)        0         \n",
      "                                                                 \n",
      " conv2d_15 (Conv2D)          (None, 36, 3, 160)        184480    \n",
      "                                                                 \n",
      " batch_normalization_15 (Bat  (None, 36, 3, 160)       640       \n",
      " chNormalization)                                                \n",
      "                                                                 \n",
      " activation_15 (Activation)  (None, 36, 3, 160)        0         \n",
      "                                                                 \n",
      " conv2d_16 (Conv2D)          (None, 36, 3, 160)        230560    \n",
      "                                                                 \n",
      " batch_normalization_16 (Bat  (None, 36, 3, 160)       640       \n",
      " chNormalization)                                                \n",
      "                                                                 \n",
      " activation_16 (Activation)  (None, 36, 3, 160)        0         \n",
      "                                                                 \n",
      " conv2d_17 (Conv2D)          (None, 36, 3, 160)        230560    \n",
      "                                                                 \n",
      " batch_normalization_17 (Bat  (None, 36, 3, 160)       640       \n",
      " chNormalization)                                                \n",
      "                                                                 \n",
      " activation_17 (Activation)  (None, 36, 3, 160)        0         \n",
      "                                                                 \n",
      " conv2d_18 (Conv2D)          (None, 36, 3, 160)        230560    \n",
      "                                                                 \n",
      " batch_normalization_18 (Bat  (None, 36, 3, 160)       640       \n",
      " chNormalization)                                                \n",
      "                                                                 \n",
      " activation_18 (Activation)  (None, 36, 3, 160)        0         \n",
      "                                                                 \n",
      " conv2d_19 (Conv2D)          (None, 18, 2, 192)        276672    \n",
      "                                                                 \n",
      " batch_normalization_19 (Bat  (None, 18, 2, 192)       768       \n",
      " chNormalization)                                                \n",
      "                                                                 \n",
      " activation_19 (Activation)  (None, 18, 2, 192)        0         \n",
      "                                                                 \n",
      " conv2d_20 (Conv2D)          (None, 18, 2, 192)        331968    \n",
      "                                                                 \n",
      " batch_normalization_20 (Bat  (None, 18, 2, 192)       768       \n",
      " chNormalization)                                                \n",
      "                                                                 \n",
      " activation_20 (Activation)  (None, 18, 2, 192)        0         \n",
      "                                                                 \n",
      " conv2d_21 (Conv2D)          (None, 18, 2, 192)        331968    \n",
      "                                                                 \n",
      " batch_normalization_21 (Bat  (None, 18, 2, 192)       768       \n",
      " chNormalization)                                                \n",
      "                                                                 \n",
      " activation_21 (Activation)  (None, 18, 2, 192)        0         \n",
      "                                                                 \n",
      " conv2d_22 (Conv2D)          (None, 18, 2, 192)        331968    \n",
      "                                                                 \n",
      " batch_normalization_22 (Bat  (None, 18, 2, 192)       768       \n",
      " chNormalization)                                                \n",
      "                                                                 \n",
      " activation_22 (Activation)  (None, 18, 2, 192)        0         \n",
      "                                                                 \n",
      " conv2d_23 (Conv2D)          (None, 9, 1, 224)         387296    \n",
      "                                                                 \n",
      " batch_normalization_23 (Bat  (None, 9, 1, 224)        896       \n",
      " chNormalization)                                                \n",
      "                                                                 \n",
      " activation_23 (Activation)  (None, 9, 1, 224)         0         \n",
      "                                                                 \n",
      " reshape (Reshape)           (None, 9, 224)            0         \n",
      "                                                                 \n",
      " masking (Masking)           (None, 9, 224)            0         \n",
      "                                                                 \n",
      " lambda (Lambda)             (None, 224)               0         \n",
      "                                                                 \n",
      " dense (Dense)               (None, 4)                 900       \n",
      "                                                                 \n",
      "=================================================================\n",
      "Total params: 3,554,532\n",
      "Trainable params: 3,548,772\n",
      "Non-trainable params: 5,760\n",
      "_________________________________________________________________\n"
     ]
    }
   ],
   "source": [
    "# Define the model\n",
    "# Model parameters\n",
    "filters_start = 32 # Number of convolutional filters\n",
    "layer_filters = filters_start # Start with these filters\n",
    "filters_growth = 32 # Filter increase after each convBlock\n",
    "strides_start = (1, 1) # Strides at the beginning of each convBlock\n",
    "strides_end = (2, 2) # Strides at the end of each convBlock\n",
    "depth = 4 # Number of convolutional layers in each convBlock\n",
    "n_blocks = 6 # Number of ConBlocks\n",
    "n_channels = 1 # Number of color channgels\n",
    "input_shape = (*dim, n_channels) # input shape for first layer\n",
    "\n",
    "\n",
    "model = Sequential()\n",
    "\n",
    "for block in range(n_blocks):\n",
    "\n",
    "    # Provide input only for the first layer\n",
    "    if block == 0:\n",
    "        provide_input = True\n",
    "    else:\n",
    "        provide_input = False\n",
    "    \n",
    "    model = conv2d_block(model, depth,\n",
    "                         layer_filters,\n",
    "                         filters_growth,\n",
    "                         strides_start, strides_end,\n",
    "                         input_shape,\n",
    "                         first_layer = provide_input)\n",
    "    \n",
    "    # Increase the number of filters after each block\n",
    "    layer_filters += filters_growth\n",
    "\n",
    "\n",
    "\n",
    "# Remove the frequency dimension, so that the output can feed into LSTM\n",
    "# Reshape to (batch, time steps, filters)\n",
    "model.add(layers.Reshape((-1, 224)))\n",
    "model.add(layers.core.Masking(mask_value = 0.0))\n",
    "model.add(MeanOverTime())\n",
    "\n",
    "# Alternative: Replace averaging by LSTM\n",
    "\n",
    "# Insert masking layer to ignore zeros\n",
    "#model.add(layers.core.Masking(mask_value = 0.0))\n",
    "\n",
    "# Add LSTM layer with 3 neurons\n",
    "#model.add(layers.LSTM(200))\n",
    "#model.add(layers.Flatten())\n",
    "\n",
    "# And a fully connected layer for the output\n",
    "model.add(layers.Dense(4, activation='sigmoid', kernel_regularizer = regularizers.l2(0.1)))\n",
    "\n",
    "\n",
    "model.summary()"
   ]
  },
  {
   "cell_type": "code",
   "execution_count": 38,
   "metadata": {},
   "outputs": [],
   "source": [
    "import datetime \n",
    "# Compile the model and run a batch through the network\n",
    "model.compile(loss='categorical_crossentropy',\n",
    "              optimizer=tf.keras.optimizers.Adam(learning_rate=0.01),\n",
    "              metrics=['acc'])\n",
    "\n",
    "log_dir = \"logs/fit/\" + datetime.datetime.now().strftime(\"%Y%m%d-%H%M%S\")\n",
    "tensorboard_callback = tf.keras.callbacks.TensorBoard(log_dir=log_dir, histogram_freq=1)"
   ]
  },
  {
   "cell_type": "code",
   "execution_count": 41,
   "metadata": {},
   "outputs": [
    {
     "name": "stdout",
     "output_type": "stream",
     "text": [
      "Epoch 1/3\n"
     ]
    },
    {
     "name": "stderr",
     "output_type": "stream",
     "text": [
      "/var/folders/0b/dyb338nj37b116mhm821bd700000gp/T/ipykernel_70174/4173455027.py:1: UserWarning: `Model.fit_generator` is deprecated and will be removed in a future version. Please use `Model.fit`, which supports generators.\n",
      "  h = model.fit_generator(generator = train_generator,\n"
     ]
    },
    {
     "name": "stdout",
     "output_type": "stream",
     "text": [
      "50/50 [==============================] - 111s 2s/step - loss: 1.0383 - acc: 0.6000 - val_loss: 101088.7109 - val_acc: 0.5850\n",
      "Epoch 2/3\n",
      "50/50 [==============================] - 102s 2s/step - loss: 1.0195 - acc: 0.5944 - val_loss: 1144.8745 - val_acc: 0.2956\n",
      "Epoch 3/3\n",
      "50/50 [==============================] - 102s 2s/step - loss: 0.9707 - acc: 0.6288 - val_loss: 2.0907 - val_acc: 0.5888\n"
     ]
    }
   ],
   "source": [
    "h = model.fit_generator(generator = train_generator,\n",
    "                              steps_per_epoch = 50,\n",
    "                              epochs = 3,\n",
    "                              validation_data = val_generator,\n",
    "                              validation_steps = 50, callbacks=[tensorboard_callback])"
   ]
  },
  {
   "cell_type": "code",
   "execution_count": 46,
   "metadata": {},
   "outputs": [
    {
     "name": "stdout",
     "output_type": "stream",
     "text": [
      "dict_keys(['loss', 'acc', 'val_loss', 'val_acc'])\n"
     ]
    },
    {
     "data": {
      "image/png": "[encoded data removed]",
      "text/plain": [
       "<Figure size 432x288 with 1 Axes>"
      ]
     },
     "metadata": {},
     "output_type": "display_data"
    }
   ],
   "source": [
    "import matplotlib.pyplot as plt\n",
    "\n",
    "print(h.history.keys())\n",
    "plt.plot(h.history['acc'])\n",
    "plt.plot(h.history['val_acc'])\n",
    "plt.show()"
   ]
  },
  {
   "cell_type": "code",
   "execution_count": 43,
   "metadata": {},
   "outputs": [],
   "source": [
    "df = pd.DataFrame(h.history)\n",
    "df.head()\n",
    "df.to_csv('/Users/macbookpro/Documents/ecg_project_2/cnn_ecg_keras/history.csv')"
   ]
  },
  {
   "cell_type": "code",
   "execution_count": 44,
   "metadata": {},
   "outputs": [],
   "source": [
    "def smoothcols(df, cols):\n",
    "    \n",
    "    lfrac = 0.02\n",
    "    lowess = sm.nonparametric.lowess\n",
    "    df_sm = df.copy()\n",
    "    x = df.epoch.values\n",
    "\n",
    "    # Replace columns with smoothed values\n",
    "    for c in cols:\n",
    "        df_sm[c]  = lowess(df[c].values, x, frac = lfrac)[:,1]\n",
    "        \n",
    "    return df_sm"
   ]
  },
  {
   "cell_type": "code",
   "execution_count": 48,
   "metadata": {},
   "outputs": [
    {
     "name": "stdout",
     "output_type": "stream",
     "text": [
      "   Unnamed: 0      loss       acc       val_loss   val_acc\n",
      "0           0  1.038312  0.600000  101088.710938  0.585000\n",
      "1           1  1.019498  0.594375    1144.874512  0.295625\n",
      "2           2  0.970690  0.628750       2.090725  0.588750\n"
     ]
    },
    {
     "ename": "AttributeError",
     "evalue": "'DataFrame' object has no attribute 'run'",
     "output_type": "error",
     "traceback": [
      "\u001b[0;31m---------------------------------------------------------------------------\u001b[0m",
      "\u001b[0;31mAttributeError\u001b[0m                            Traceback (most recent call last)",
      "\u001b[1;32m/Users/macbookpro/Documents/ecg_project_2/cnn_ecg_keras/CNNforECGclassification_model.ipynb Cell 18\u001b[0m in \u001b[0;36m<cell line: 5>\u001b[0;34m()\u001b[0m\n\u001b[1;32m      <a href='vscode-notebook-cell:/Users/macbookpro/Documents/ecg_project_2/cnn_ecg_keras/CNNforECGclassification_model.ipynb#X25sZmlsZQ%3D%3D?line=2'>3</a>\u001b[0m \u001b[39mprint\u001b[39m(h)\n\u001b[1;32m      <a href='vscode-notebook-cell:/Users/macbookpro/Documents/ecg_project_2/cnn_ecg_keras/CNNforECGclassification_model.ipynb#X25sZmlsZQ%3D%3D?line=3'>4</a>\u001b[0m \u001b[39m# Make a list of data frames and apply some smoothing\u001b[39;00m\n\u001b[0;32m----> <a href='vscode-notebook-cell:/Users/macbookpro/Documents/ecg_project_2/cnn_ecg_keras/CNNforECGclassification_model.ipynb#X25sZmlsZQ%3D%3D?line=4'>5</a>\u001b[0m runs \u001b[39m=\u001b[39m \u001b[39mlist\u001b[39m(\u001b[39mreversed\u001b[39m(\u001b[39mlist\u001b[39m(h\u001b[39m.\u001b[39;49mrun\u001b[39m.\u001b[39munique()))) \u001b[39m# different model conditions (pick reversed order)\u001b[39;00m\n\u001b[1;32m      <a href='vscode-notebook-cell:/Users/macbookpro/Documents/ecg_project_2/cnn_ecg_keras/CNNforECGclassification_model.ipynb#X25sZmlsZQ%3D%3D?line=6'>7</a>\u001b[0m cols_to_sm \u001b[39m=\u001b[39m \u001b[39mlist\u001b[39m(h\u001b[39m.\u001b[39mcolumns)[\u001b[39m2\u001b[39m:] \u001b[39m# columns for smoothing\u001b[39;00m\n\u001b[1;32m      <a href='vscode-notebook-cell:/Users/macbookpro/Documents/ecg_project_2/cnn_ecg_keras/CNNforECGclassification_model.ipynb#X25sZmlsZQ%3D%3D?line=8'>9</a>\u001b[0m h_list \u001b[39m=\u001b[39m [] \u001b[39m# store the model results\u001b[39;00m\n",
      "File \u001b[0;32m~/Documents/mac_env/lib/python3.10/site-packages/pandas/core/generic.py:5575\u001b[0m, in \u001b[0;36mNDFrame.__getattr__\u001b[0;34m(self, name)\u001b[0m\n\u001b[1;32m   5568\u001b[0m \u001b[39mif\u001b[39;00m (\n\u001b[1;32m   5569\u001b[0m     name \u001b[39mnot\u001b[39;00m \u001b[39min\u001b[39;00m \u001b[39mself\u001b[39m\u001b[39m.\u001b[39m_internal_names_set\n\u001b[1;32m   5570\u001b[0m     \u001b[39mand\u001b[39;00m name \u001b[39mnot\u001b[39;00m \u001b[39min\u001b[39;00m \u001b[39mself\u001b[39m\u001b[39m.\u001b[39m_metadata\n\u001b[1;32m   5571\u001b[0m     \u001b[39mand\u001b[39;00m name \u001b[39mnot\u001b[39;00m \u001b[39min\u001b[39;00m \u001b[39mself\u001b[39m\u001b[39m.\u001b[39m_accessors\n\u001b[1;32m   5572\u001b[0m     \u001b[39mand\u001b[39;00m \u001b[39mself\u001b[39m\u001b[39m.\u001b[39m_info_axis\u001b[39m.\u001b[39m_can_hold_identifiers_and_holds_name(name)\n\u001b[1;32m   5573\u001b[0m ):\n\u001b[1;32m   5574\u001b[0m     \u001b[39mreturn\u001b[39;00m \u001b[39mself\u001b[39m[name]\n\u001b[0;32m-> 5575\u001b[0m \u001b[39mreturn\u001b[39;00m \u001b[39mobject\u001b[39;49m\u001b[39m.\u001b[39;49m\u001b[39m__getattribute__\u001b[39;49m(\u001b[39mself\u001b[39;49m, name)\n",
      "\u001b[0;31mAttributeError\u001b[0m: 'DataFrame' object has no attribute 'run'"
     ]
    }
   ],
   "source": [
    "# Read h file\n",
    "h = pd.read_csv('history.csv')\n",
    "print(h.run)\n",
    "# Make a list of data frames and apply some smoothing\n",
    "runs = list(reversed(list(h.run.unique()))) # different model conditions (pick reversed order)\n",
    "\n",
    "cols_to_sm = list(h.columns)[2:] # columns for smoothing\n",
    "\n",
    "h_list = [] # store the model results\n",
    "name_list = [] # store the model conditions\n",
    "for run in runs:\n",
    "    df = h[h.run == run]\n",
    "    df_sm = smoothcols(df, cols_to_sm)\n",
    "    h_list.append(df_sm)\n",
    "    name_list.append(run)"
   ]
  },
  {
   "cell_type": "code",
   "execution_count": null,
   "metadata": {},
   "outputs": [],
   "source": [
    "# Plot the history data\n",
    "fig, axarr = plt.subplots(len(name_list), 2, figsize = (15, 10))\n",
    "\n",
    "# Model titles\n",
    "model_title_list = ['without data augmentation', 'with data augmentation']\n",
    "\n",
    "for row in range(len(history_list)):\n",
    "    \n",
    "    ax = axarr[row]\n",
    "    \n",
    "    history_list[row].plot(x = 'epoch', y = 'loss', ax = ax[0], label = 'training', color = 'blue')\n",
    "    history_list[row].plot(x = 'epoch', y = 'val_loss', ax = ax[0], label = 'validation', color = 'red')\n",
    "\n",
    "    history_list[row].plot(x = 'epoch', y = 'acc', ax = ax[1], label = 'training', color = 'blue')\n",
    "    history_list[row].plot(x = 'epoch', y = 'val_acc', ax = ax[1], label = 'validation', color = 'red')\n",
    "\n",
    "    ax[0].set(xlim = [0, 300], xticks = np.arange(0, 350, 50),\n",
    "              ylim = [0, 1.6], yticks = np.arange(0, 1.8, 0.2),\n",
    "              xlabel = 'Epoch', ylabel = 'Loss')\n",
    "    \n",
    "    ax[0].set_title('Loss ' + model_title_list[row])\n",
    "    ax[1].set_title('Accuracy ' + model_title_list[row])\n",
    "\n",
    "    ax[1].set(xlim = [0, 300], xticks = np.arange(0, 350, 50),\n",
    "              ylim = [0.4, 1.0], yticks = np.arange(0.4, 1.1, 0.1),\n",
    "              xlabel = 'Epoch', ylabel = 'Accuracy')\n",
    "\n",
    "\n",
    "plt.tight_layout()\n",
    "plt.show()\n",
    "fig.savefig('physionet_history.png', bbox_inches = 'tight', dpi = 150)"
   ]
  },
  {
   "cell_type": "code",
   "execution_count": null,
   "metadata": {},
   "outputs": [
    {
     "name": "stdout",
     "output_type": "stream",
     "text": [
      "INFO:tensorflow:Assets written to: C:\\Users\\sanda\\AppData\\Local\\Temp\\tmp2n5fnc9w\\assets\n"
     ]
    }
   ],
   "source": [
    "def representative_dataset():\n",
    "    for _ in range(100):\n",
    "      data = np.random.rand(1, 570, 33, 1)\n",
    "      yield [data.astype(np.float32)]\n",
    "\n",
    "\n",
    "# Convert the model to the TensorFlow Lite format with quantization\n",
    "converter = tf.lite.TFLiteConverter.from_keras_model(model)\n",
    "converter.optimizations= [tf.lite.Optimize.DEFAULT]\n",
    "converter.optimizations = [tf.lite.Optimize.DEFAULT]\n",
    "converter.representative_dataset = representative_dataset\n",
    "converter.target_spec.supported_ops = [tf.lite.OpsSet.TFLITE_BUILTINS_INT8]\n",
    "converter.inference_input_type = tf.int8  # or tf.uint8\n",
    "converter.inference_output_type = tf.int8  # or tf.uint8\n",
    "\n",
    "tflite_model = converter.convert()\n",
    "\n",
    "with open('/Users/sanda/Documents/esp_dev_files/cnn_ecg_keras/keras_ecg_cnn_quan.tflite', 'wb+') as f:\n",
    "  f.write(tflite_model)"
   ]
  },
  {
   "cell_type": "code",
   "execution_count": null,
   "metadata": {},
   "outputs": [
    {
     "name": "stdout",
     "output_type": "stream",
     "text": [
      "size of no quan:  14190744\n",
      "size of quan:  3641928\n"
     ]
    }
   ],
   "source": [
    "print(\"size of no quan: \", os.path.getsize(\"keras_ecg_cnn.tflite\"))\n",
    "print(\"size of quan: \", os.path.getsize(\"keras_ecg_cnn_quan.tflite\"))"
   ]
  },
  {
   "cell_type": "code",
   "execution_count": null,
   "metadata": {},
   "outputs": [
    {
     "name": "stderr",
     "output_type": "stream",
     "text": [
      "UsageError: Line magic function `%tensorboard` not found.\n"
     ]
    }
   ],
   "source": [
    "# %tensorboard --logdir logs/fit/20221027-144438"
   ]
  }
 ],
 "metadata": {
  "kernelspec": {
   "display_name": "Python 3.10.0 ('mac_env')",
   "language": "python",
   "name": "python3"
  },
  "language_info": {
   "codemirror_mode": {
    "name": "ipython",
    "version": 3
   },
   "file_extension": ".py",
   "mimetype": "text/x-python",
   "name": "python",
   "nbconvert_exporter": "python",
   "pygments_lexer": "ipython3",
   "version": "3.10.0"
  },
  "vscode": {
   "interpreter": {
    "hash": "dae103b0abefff14f74f1e104d855e7141743c65472217b3d8c8917ec22807b1"
   }
  }
 },
 "nbformat": 4,
 "nbformat_minor": 2
}
